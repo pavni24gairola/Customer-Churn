{
 "cells": [
  {
   "cell_type": "code",
   "execution_count": null,
   "id": "0eeaba13",
   "metadata": {},
   "outputs": [],
   "source": [
    "##pip install pandas-profiling"
   ]
  },
  {
   "cell_type": "code",
   "execution_count": null,
   "id": "6d413592",
   "metadata": {},
   "outputs": [],
   "source": [
    "# Importing the libraries\n",
    "import numpy as np\n",
    "import matplotlib.pyplot as plt\n",
    "import pandas as pd\n",
    "import seaborn as sns # for making plots with seaborn\n",
    "color = sns.color_palette()\n",
    "import sklearn.metrics as metrics\n",
    "import pandas_profiling as pp\n",
    "from sklearn import metrics\n",
    "import warnings\n",
    "warnings.filterwarnings(\"ignore\")"
   ]
  },
  {
   "cell_type": "markdown",
   "id": "2a18ced7",
   "metadata": {},
   "source": [
    "An E Commerce company or DTH (you can choose either of these two domains) provider is\n",
    "facing a lot of competition in the current market and it has become a challenge to retain the\n",
    "existing customers in the current situation. Hence, the company wants to develop a model\n",
    "through which they can do churn prediction of the accounts and provide segmented offers to the\n",
    "potential churners. In this company, account churn is a major thing because 1 account can have\n",
    "multiple customers. hence by losing one account the company might be losing more than one\n",
    "customer.\n",
    "You have been assigned to develop a churn prediction model for this company and provide\n",
    "business recommendations on the campaign.\n",
    "Your campaign suggestion should be unique and be very clear on the campaign offer because\n",
    "your recommendation will go through the revenue assurance team. If they find that you are\n",
    "giving a lot of free (or subsidized) stuff thereby making a loss to the company; they are not going\n",
    "to approve your recommendation.\n",
    "Hence be very careful while providing campaign recommendation."
   ]
  },
  {
   "cell_type": "code",
   "execution_count": null,
   "id": "6f17b724",
   "metadata": {},
   "outputs": [],
   "source": [
    "df = pd.read_excel('Customer Churn Data.xlsx',sheet_name = 'Data for DSBA')\n",
    "df.sample(10)"
   ]
  },
  {
   "cell_type": "code",
   "execution_count": null,
   "id": "89905bf7",
   "metadata": {},
   "outputs": [],
   "source": [
    "##profile = pp.ProfileReport(df)\n",
    "##profile.to_file(\"output.html\")"
   ]
  },
  {
   "cell_type": "code",
   "execution_count": null,
   "id": "127f3a3b",
   "metadata": {
    "scrolled": true
   },
   "outputs": [],
   "source": [
    "##profile "
   ]
  },
  {
   "cell_type": "code",
   "execution_count": null,
   "id": "043ce312",
   "metadata": {},
   "outputs": [],
   "source": [
    "df.shape"
   ]
  },
  {
   "cell_type": "code",
   "execution_count": null,
   "id": "4c81eaf6",
   "metadata": {},
   "outputs": [],
   "source": [
    "df.head(5)"
   ]
  },
  {
   "cell_type": "code",
   "execution_count": null,
   "id": "a47b9e91",
   "metadata": {},
   "outputs": [],
   "source": [
    "df['Churn'].value_counts()"
   ]
  },
  {
   "cell_type": "markdown",
   "id": "a97a1fa1",
   "metadata": {},
   "source": [
    "As the difference between 0 and 1 is a lot, it means the dataset is imbalanced. The minority class is 20% of majority class, i.e. dataset is imbalanced."
   ]
  },
  {
   "cell_type": "markdown",
   "id": "31607ad9",
   "metadata": {},
   "source": [
    "We will start by separating the chrun that will be 0 and class 1."
   ]
  },
  {
   "cell_type": "code",
   "execution_count": null,
   "id": "10a9ccff",
   "metadata": {},
   "outputs": [],
   "source": [
    "# class count\n",
    "Churn_count_0, Churn_count_1 = df['Churn'].value_counts()\n",
    "\n",
    "# Separate class\n",
    "Churn_0 = df[df['Churn'] == 0]\n",
    "Churn_1 = df[df['Churn'] == 1]# print the shape of the class\n",
    "print('Churn 0:', Churn_0.shape)\n",
    "print('Churn 1:', Churn_1.shape)"
   ]
  },
  {
   "cell_type": "markdown",
   "id": "99e0b95e",
   "metadata": {},
   "source": [
    "Random Over-Sampling\n",
    "In this we add more copies to the minority class. Its a good choice when data is limited"
   ]
  },
  {
   "cell_type": "code",
   "execution_count": null,
   "id": "c9ac8713",
   "metadata": {},
   "outputs": [],
   "source": [
    "Churn_1_over = Churn_1.sample(Churn_count_0, replace=True)\n",
    "\n",
    "test_over = pd.concat([Churn_1_over, Churn_0], axis=0)\n",
    "\n",
    "print(\"total class of 1 and 0:\",test_over['Churn'].value_counts())# plot the count after under-sampeling\n",
    "test_over['Churn'].value_counts().plot(kind='bar', title='count (target)')"
   ]
  },
  {
   "cell_type": "code",
   "execution_count": null,
   "id": "8fcdc8a8",
   "metadata": {},
   "outputs": [],
   "source": [
    "#pip install imblearn"
   ]
  },
  {
   "cell_type": "code",
   "execution_count": null,
   "id": "85e97c8d",
   "metadata": {},
   "outputs": [],
   "source": [
    "from imblearn.combine import SMOTEENN"
   ]
  },
  {
   "cell_type": "code",
   "execution_count": null,
   "id": "61f0297e",
   "metadata": {},
   "outputs": [],
   "source": [
    "#sm=SMOTEENN()\n",
    "#X_resampled, y_resampled=sm.fit_sample(x,y)"
   ]
  },
  {
   "cell_type": "code",
   "execution_count": null,
   "id": "57cc0645",
   "metadata": {
    "scrolled": true
   },
   "outputs": [],
   "source": [
    "df.shape"
   ]
  },
  {
   "cell_type": "code",
   "execution_count": null,
   "id": "b9304b17",
   "metadata": {
    "scrolled": true
   },
   "outputs": [],
   "source": [
    "print('The number of rows (observations) is',df.shape[0],'\\n''The number of columns (variables) is',df.shape[1])"
   ]
  },
  {
   "cell_type": "code",
   "execution_count": null,
   "id": "260e7fd0",
   "metadata": {},
   "outputs": [],
   "source": [
    "df.info()"
   ]
  },
  {
   "cell_type": "code",
   "execution_count": null,
   "id": "aec92101",
   "metadata": {},
   "outputs": [],
   "source": [
    "df.describe().T"
   ]
  },
  {
   "cell_type": "code",
   "execution_count": null,
   "id": "32faacc1",
   "metadata": {},
   "outputs": [],
   "source": [
    "df.isnull().sum()"
   ]
  },
  {
   "cell_type": "code",
   "execution_count": null,
   "id": "62e25c9e",
   "metadata": {},
   "outputs": [],
   "source": [
    "df.isnull().sum().any()"
   ]
  },
  {
   "cell_type": "code",
   "execution_count": null,
   "id": "2d12f71d",
   "metadata": {},
   "outputs": [],
   "source": [
    "df.duplicated().sum()"
   ]
  },
  {
   "cell_type": "code",
   "execution_count": null,
   "id": "2f500dd4",
   "metadata": {},
   "outputs": [],
   "source": [
    "%matplotlib inline"
   ]
  },
  {
   "cell_type": "markdown",
   "id": "7101c614",
   "metadata": {},
   "source": [
    "Missing Value Treatment and NA treatment"
   ]
  },
  {
   "cell_type": "code",
   "execution_count": null,
   "id": "9df4636e",
   "metadata": {},
   "outputs": [],
   "source": [
    "df['Tenure'] = df['Tenure'].replace(\"#\",np.nan)\n",
    "df['Account_user_count'] = df['Account_user_count'].replace(\"@\",np.nan)\n",
    "df['coupon_used_for_payment'] = df['coupon_used_for_payment'].replace(\"*\",np.nan)\n",
    "df['coupon_used_for_payment'] = df['coupon_used_for_payment'].replace(\"#\",np.nan)\n",
    "df['coupon_used_for_payment'] = df['coupon_used_for_payment'].replace(\"$\",np.nan)\n",
    "df['rev_per_month'] = df['rev_per_month'].replace(\"+\",np.nan)\n",
    "df['Day_Since_CC_connect'] = df['Day_Since_CC_connect'].replace(\"$\",np.nan)\n",
    "df['rev_growth_yoy'] = df['rev_growth_yoy'].replace(\"$\",np.nan)\n",
    "df['Login_device'] = df['Login_device'].replace(\"&&&&\",np.nan)\n",
    "df['cashback'] = df['cashback'].replace(\"$\",np.nan)\n",
    "df['Gender'] = df['Gender'].replace(\"M\",\"Male\")\n",
    "df['Gender'] = df['Gender'].replace(\"F\",\"Female\")\n",
    "df['Account_user_count'] = df['Account_user_count'].fillna(\"NA\")\n",
    "df['coupon_used_for_payment'] = df['coupon_used_for_payment'].fillna(\"NA\")\n",
    "df['account_segment'] = df['account_segment'].fillna(\"NA\")\n",
    "df['Marital_Status'] = df['Marital_Status'].fillna(\"NA\")\n",
    "df['rev_per_month'] = df['rev_per_month'].fillna(\"NA\")\n",
    "df['Day_Since_CC_connect'] = df['Day_Since_CC_connect'].fillna(\"NA\")\n",
    "df['cashback'] = df['cashback'].fillna(\"NA\")\n",
    "df['Login_device'] = df['Login_device'].fillna(\"NA\")\n",
    "df['City_Tier'] = df['City_Tier'].fillna(df['City_Tier'].median())\n",
    "df['CC_Contacted_LY'] = df['CC_Contacted_LY'].fillna(df['CC_Contacted_LY'].mean())\n",
    "df['Service_Score'] = df['Service_Score'].fillna(df['Service_Score'].mean())\n",
    "df['CC_Agent_Score'] = df['CC_Agent_Score'].fillna(df['CC_Agent_Score'].mean())\n",
    "df['Complain_ly'] = df['Complain_ly'].fillna(df['Complain_ly'].median())\n",
    "df['Tenure'] = df['Tenure'].fillna(df['Tenure'].mean())\n",
    "df['Payment'] = df['Payment'].fillna(\"NA\")\n",
    "df['Gender'] = df['Gender'].fillna(\"NA\")\n",
    "#df['Account_user_count'] = df['Account_user_count'].fillna(df['Account_user_count'].mode())\n",
    "#df['coupon_used_for_payment'] = df['coupon_used_for_payment'].fillna(df['coupon_used_for_payment'].mean())\n",
    "#df['rev_growth_yoy'] = df['rev_growth_yoy'].fillna(df['rev_growth_yoy'].mean())"
   ]
  },
  {
   "cell_type": "code",
   "execution_count": null,
   "id": "27910b2c",
   "metadata": {},
   "outputs": [],
   "source": [
    "df.isnull().sum()"
   ]
  },
  {
   "cell_type": "markdown",
   "id": "7ab0d5d7",
   "metadata": {},
   "source": [
    "UNIVARIATE ANALYSIS"
   ]
  },
  {
   "cell_type": "code",
   "execution_count": null,
   "id": "0b80778a",
   "metadata": {},
   "outputs": [],
   "source": [
    "#sns.boxplot(y=df[\"City_Tier\"])\n",
    "#plt.boxplot(y=df[\"City_Tier\", widths = 0.6, patch_artist = True)\n",
    "#plt.boxplot(df, showfliers=False, widths=(1, 0.5, 1.2, 0.1))\n",
    "#plt.show()\n",
    "#f, ax = plt.subplots(figsize=(10,5))\n",
    "#ax = sns.boxplot(data=df,width=0.6,palette=\"Set3\",orient='h',linewidth=0.5)"
   ]
  },
  {
   "cell_type": "markdown",
   "id": "76205c79",
   "metadata": {},
   "source": [
    "Visualisation of Target Variable"
   ]
  },
  {
   "cell_type": "code",
   "execution_count": null,
   "id": "5bb57402",
   "metadata": {},
   "outputs": [],
   "source": [
    "sns.countplot(x='Churn', data=df)"
   ]
  },
  {
   "cell_type": "code",
   "execution_count": null,
   "id": "9d972ddd",
   "metadata": {},
   "outputs": [],
   "source": [
    "df['Tenure'].value_counts().plot(kind='bar',figsize=(20,3))"
   ]
  },
  {
   "cell_type": "code",
   "execution_count": null,
   "id": "a140c222",
   "metadata": {},
   "outputs": [],
   "source": [
    "df['City_Tier'].value_counts().plot(kind='bar',figsize=(3,3))"
   ]
  },
  {
   "cell_type": "code",
   "execution_count": null,
   "id": "5dbd49e2",
   "metadata": {},
   "outputs": [],
   "source": [
    "df['Payment'].value_counts().plot(kind='bar',figsize=(3,3))"
   ]
  },
  {
   "cell_type": "code",
   "execution_count": null,
   "id": "9da4a1fc",
   "metadata": {},
   "outputs": [],
   "source": [
    "df['Gender'].value_counts().plot(kind='bar',figsize=(3,3))"
   ]
  },
  {
   "cell_type": "code",
   "execution_count": null,
   "id": "a5594c0d",
   "metadata": {},
   "outputs": [],
   "source": [
    "df['Account_user_count'].value_counts().plot(kind='bar',figsize=(3,3))"
   ]
  },
  {
   "cell_type": "code",
   "execution_count": null,
   "id": "a3e58557",
   "metadata": {},
   "outputs": [],
   "source": [
    "df['account_segment'].value_counts().plot(kind='bar',figsize=(3,3))"
   ]
  },
  {
   "cell_type": "code",
   "execution_count": null,
   "id": "b73d3aa8",
   "metadata": {},
   "outputs": [],
   "source": [
    "df['Marital_Status'].value_counts().plot(kind='bar',figsize=(3,3))"
   ]
  },
  {
   "cell_type": "code",
   "execution_count": null,
   "id": "8b9f8873",
   "metadata": {},
   "outputs": [],
   "source": [
    "df['rev_per_month'].value_counts().plot(kind='bar',figsize=(20,3))"
   ]
  },
  {
   "cell_type": "code",
   "execution_count": null,
   "id": "04c94eb9",
   "metadata": {},
   "outputs": [],
   "source": [
    "df['rev_growth_yoy'].value_counts().plot(kind='bar',figsize=(20,3))"
   ]
  },
  {
   "cell_type": "code",
   "execution_count": null,
   "id": "7d8f73a4",
   "metadata": {},
   "outputs": [],
   "source": [
    "df['coupon_used_for_payment'].value_counts().plot(kind='bar',figsize=(20,3))"
   ]
  },
  {
   "cell_type": "code",
   "execution_count": null,
   "id": "e5355fdc",
   "metadata": {},
   "outputs": [],
   "source": [
    "df['Day_Since_CC_connect'].value_counts().plot(kind='bar',figsize=(20,3))"
   ]
  },
  {
   "cell_type": "code",
   "execution_count": null,
   "id": "06922ae7",
   "metadata": {},
   "outputs": [],
   "source": [
    "df['cashback'].value_counts().plot(kind='bar',figsize=(300,150))"
   ]
  },
  {
   "cell_type": "code",
   "execution_count": null,
   "id": "2ada33b1",
   "metadata": {},
   "outputs": [],
   "source": [
    "df['Login_device'].value_counts().plot(kind='bar',figsize=(4,3))"
   ]
  },
  {
   "cell_type": "code",
   "execution_count": null,
   "id": "cf8e9c28",
   "metadata": {},
   "outputs": [],
   "source": [
    "sns.boxplot(x=df[\"Service_Score\"])"
   ]
  },
  {
   "cell_type": "code",
   "execution_count": null,
   "id": "71f40820",
   "metadata": {},
   "outputs": [],
   "source": [
    "sns.boxplot(x=df[\"CC_Contacted_LY\"])"
   ]
  },
  {
   "cell_type": "code",
   "execution_count": null,
   "id": "b5bcbbab",
   "metadata": {},
   "outputs": [],
   "source": [
    "plt.hist(df['City_Tier'])"
   ]
  },
  {
   "cell_type": "code",
   "execution_count": null,
   "id": "139fab9e",
   "metadata": {},
   "outputs": [],
   "source": [
    "plt.hist(df['CC_Contacted_LY'])"
   ]
  },
  {
   "cell_type": "code",
   "execution_count": null,
   "id": "14be0cf3",
   "metadata": {},
   "outputs": [],
   "source": [
    "plt.hist(df['Service_Score'])"
   ]
  },
  {
   "cell_type": "code",
   "execution_count": null,
   "id": "10ec3480",
   "metadata": {},
   "outputs": [],
   "source": [
    "plt.hist(df['CC_Agent_Score'])"
   ]
  },
  {
   "cell_type": "code",
   "execution_count": null,
   "id": "7c8d7fc1",
   "metadata": {},
   "outputs": [],
   "source": [
    "plt.hist(df['Complain_ly'])"
   ]
  },
  {
   "cell_type": "markdown",
   "id": "4f1b9fb0",
   "metadata": {},
   "source": [
    "Bivariate Analysis"
   ]
  },
  {
   "cell_type": "code",
   "execution_count": null,
   "id": "07e25062",
   "metadata": {},
   "outputs": [],
   "source": [
    "#sns.boxplot(x=df[\"Tenure\"],orient=\"h\")\n",
    "#sns.boxplot(data=df, orient=\"h\", palette=\"Set2\")\n",
    "fig, ax = plt.subplots(figsize=(12, 6))\n",
    "sns.boxplot(x = 'Tenure', y = 'Churn', data =df)\n",
    "plt.show()\n",
    "fig, ax = plt.subplots(figsize=(12, 6))\n",
    "sns.barplot(x = 'Tenure', y = 'Churn', data =df)"
   ]
  },
  {
   "cell_type": "code",
   "execution_count": null,
   "id": "17204b33",
   "metadata": {},
   "outputs": [],
   "source": [
    "fig, ax = plt.subplots(figsize=(12, 6))\n",
    "sns.boxplot(x = 'Account_user_count', y = 'Churn', data =df)\n",
    "plt.show()\n",
    "sns.barplot(x = 'Account_user_count', y = 'Churn', data =df)"
   ]
  },
  {
   "cell_type": "code",
   "execution_count": null,
   "id": "e25e873c",
   "metadata": {},
   "outputs": [],
   "source": [
    "fig, ax = plt.subplots(figsize=(300,50))\n",
    "sns.boxplot(x = 'rev_per_month', y = 'Churn', data =df)\n",
    "plt.show()\n",
    "\n",
    "fig, ax = plt.subplots(figsize=(300,50))\n",
    "sns.barplot(x = 'rev_per_month', y = 'Churn', data =df)\n"
   ]
  },
  {
   "cell_type": "code",
   "execution_count": null,
   "id": "396b469e",
   "metadata": {
    "scrolled": false
   },
   "outputs": [],
   "source": [
    "fig, ax = plt.subplots(figsize=(8, 20))\n",
    "sns.boxplot(x ='Day_Since_CC_connect', y = 'Churn', data =df)\n",
    "plt.show()\n",
    "fig, ax = plt.subplots(figsize=(8, 20))\n",
    "sns.barplot(x ='Day_Since_CC_connect', y ='Churn', data =df)"
   ]
  },
  {
   "cell_type": "code",
   "execution_count": null,
   "id": "51dc2e7c",
   "metadata": {},
   "outputs": [],
   "source": [
    "fig, ax = plt.subplots(figsize=(500,100))\n",
    "sns.boxplot(x= 'cashback', y= 'Churn', data =df)\n",
    "plt.show()\n",
    "fig, ax = plt.subplots(figsize=(500,100))\n",
    "sns.barplot(x= 'cashback', y= 'Churn', data =df)"
   ]
  },
  {
   "cell_type": "code",
   "execution_count": null,
   "id": "2038d515",
   "metadata": {},
   "outputs": [],
   "source": [
    "##fig, ax = plt.subplots(figsize=(20,4))\n",
    "##sns.boxplot(x= 'coupon_used_for_payment', y= 'Churn', data =df)\n",
    "##plt.show()\n",
    "##fig, ax = plt.subplots(figsize=(20, 4))\n",
    "##sns.barplot(x= 'coupon_used_for_payment', y= 'Churn', data =df)"
   ]
  },
  {
   "cell_type": "code",
   "execution_count": null,
   "id": "c3c23753",
   "metadata": {},
   "outputs": [],
   "source": [
    "fig, ax = plt.subplots(figsize=(20,4))\n",
    "sns.boxplot(x= 'Day_Since_CC_connect', y= 'Churn', data =df)\n",
    "plt.show()\n",
    "fig, ax = plt.subplots(figsize=(20, 4))\n",
    "sns.barplot(x= 'Day_Since_CC_connect', y= 'Churn', data =df)"
   ]
  },
  {
   "cell_type": "code",
   "execution_count": null,
   "id": "0f22e181",
   "metadata": {},
   "outputs": [],
   "source": [
    "fig, ax = plt.subplots(figsize=(20,4))\n",
    "sns.boxplot(x= 'Service_Score', y= 'Churn', data =df)\n",
    "plt.show()\n",
    "fig, ax = plt.subplots(figsize=(20, 4))\n",
    "sns.barplot(x= 'Service_Score', y= 'Churn', data =df)"
   ]
  },
  {
   "cell_type": "code",
   "execution_count": null,
   "id": "64f7e83c",
   "metadata": {},
   "outputs": [],
   "source": [
    "fig, ax = plt.subplots(figsize=(20,4))\n",
    "sns.boxplot(x= 'Marital_Status', y= 'Churn', data =df)\n",
    "plt.show()\n",
    "fig, ax = plt.subplots(figsize=(20, 4))\n",
    "sns.barplot(x= 'Marital_Status', y= 'Churn', data =df)"
   ]
  },
  {
   "cell_type": "code",
   "execution_count": null,
   "id": "6fcda88d",
   "metadata": {},
   "outputs": [],
   "source": [
    "sns.heatmap(df.isnull(),yticklabels=False,cbar=False,cmap='viridis')"
   ]
  },
  {
   "cell_type": "code",
   "execution_count": null,
   "id": "f3a1a0f7",
   "metadata": {},
   "outputs": [],
   "source": [
    "plt.figure(figsize=(10,10))\n",
    "sns.heatmap(df.corr(),cbar=True,annot=True,cmap='Blues')"
   ]
  },
  {
   "cell_type": "code",
   "execution_count": null,
   "id": "cc2b4b53",
   "metadata": {},
   "outputs": [],
   "source": [
    "plt.figure(figsize=(12,8))\n",
    "df.boxplot()\n",
    "plt.show()"
   ]
  },
  {
   "cell_type": "markdown",
   "id": "b9065522",
   "metadata": {},
   "source": [
    "As the scale for variables is different some of them shrik(or compress) to fit in the same plot."
   ]
  },
  {
   "cell_type": "code",
   "execution_count": null,
   "id": "d67b1e24",
   "metadata": {},
   "outputs": [],
   "source": [
    "freq = df['Tenure'].value_counts().sort_values(ascending=True)\n",
    "freq.plot.barh(figsize=(10,10),width=1)\n",
    "plt.title('Different Tenures')\n",
    "plt.xlabel('Frequency')\n",
    "plt.show()"
   ]
  },
  {
   "cell_type": "markdown",
   "id": "044aa519",
   "metadata": {},
   "source": [
    "DATA CLEANING & PREPROCESSING"
   ]
  },
  {
   "cell_type": "markdown",
   "id": "4a675af0",
   "metadata": {},
   "source": [
    "Removal of unwanted variables."
   ]
  },
  {
   "cell_type": "code",
   "execution_count": null,
   "id": "d27cf1f6",
   "metadata": {},
   "outputs": [],
   "source": [
    "df = df.drop(['AccountID'], axis = 1)"
   ]
  },
  {
   "cell_type": "code",
   "execution_count": null,
   "id": "39314dde",
   "metadata": {},
   "outputs": [],
   "source": [
    "df['Day_Since_CC_connect'].value_counts().plot(kind='bar',figsize=(10,3))"
   ]
  },
  {
   "cell_type": "code",
   "execution_count": null,
   "id": "df481118",
   "metadata": {},
   "outputs": [],
   "source": [
    "df['rev_growth_yoy'].value_counts().plot(kind='bar',figsize=(10,3))"
   ]
  },
  {
   "cell_type": "code",
   "execution_count": null,
   "id": "d3b0d024",
   "metadata": {},
   "outputs": [],
   "source": [
    "df['Login_device'].value_counts().plot(kind='bar',figsize=(10,3))"
   ]
  },
  {
   "cell_type": "code",
   "execution_count": null,
   "id": "3a459af2",
   "metadata": {},
   "outputs": [],
   "source": [
    "df['Account_user_count'].value_counts().plot(kind='bar',figsize=(3,3))"
   ]
  },
  {
   "cell_type": "code",
   "execution_count": null,
   "id": "9d988a5e",
   "metadata": {},
   "outputs": [],
   "source": [
    "df['coupon_used_for_payment'].value_counts().plot(kind='bar',figsize=(10,3))                                                   "
   ]
  },
  {
   "cell_type": "code",
   "execution_count": null,
   "id": "b70d5f5f",
   "metadata": {},
   "outputs": [],
   "source": [
    "missing_count_df = df.isnull().sum() # the count of missing value\n",
    "value_count_df = df.isnull().count() # the count of all values\n",
    "missing_percentage_df = round(missing_count_df/value_count_df*100,2) # the percentage of missing values\n",
    "missing_df = pd.DataFrame({'count' : missing_count_df, 'percentage' : missing_percentage_df }) # create a dataframe\n",
    "barchart = missing_df.plot.bar(y='percentage',rot=90,figsize=(30,10))\n",
    "for index, percentage in enumerate(missing_percentage_df):\n",
    "    barchart.text(index,percentage,str(percentage) + '%')"
   ]
  },
  {
   "cell_type": "code",
   "execution_count": null,
   "id": "79041051",
   "metadata": {},
   "outputs": [],
   "source": [
    "df.isnull().sum()"
   ]
  },
  {
   "cell_type": "markdown",
   "id": "e83b0caa",
   "metadata": {},
   "source": [
    "Outlier treatment"
   ]
  },
  {
   "cell_type": "markdown",
   "id": "3f424b3b",
   "metadata": {},
   "source": [
    "Outlier Check"
   ]
  },
  {
   "cell_type": "code",
   "execution_count": null,
   "id": "b18de887",
   "metadata": {},
   "outputs": [],
   "source": [
    "value_count_df = df.isnull().count()  #the count of all missing values\n",
    "value_count_df"
   ]
  },
  {
   "cell_type": "code",
   "execution_count": null,
   "id": "ddb826a3",
   "metadata": {},
   "outputs": [],
   "source": [
    "f, ax = plt.subplots(figsize=(10,5))\n",
    "ax = sns.boxplot(data=df,width=0.6,palette=\"Set3\",orient='h',linewidth=0.5)"
   ]
  },
  {
   "cell_type": "code",
   "execution_count": null,
   "id": "276409a3",
   "metadata": {},
   "outputs": [],
   "source": [
    "# Complete the function to calculate lower_range and upper_range\n",
    "def treat_outlier(col):\n",
    "    sorted(col)\n",
    "    Q1,Q3=np.percentile(col,[25,75])\n",
    "    IQR=Q3-Q1\n",
    "    lower_range= Q1-(1.5 * IQR)\n",
    "    upper_range= Q3+(1.5 * IQR)\n",
    "    return lower_range, upper_range"
   ]
  },
  {
   "cell_type": "code",
   "execution_count": null,
   "id": "337d373c",
   "metadata": {},
   "outputs": [],
   "source": [
    "for feature in df[['CC_Contacted_LY','Service_Score','Tenure']]:\n",
    "    lr,ur=treat_outlier(df[feature])\n",
    "    df[feature]=np.where(df[feature]>ur,ur,df[feature])\n",
    "    df[feature]=np.where(df[feature]<lr,lr,df[feature])\n",
    "    df[feature]=np.where(df[feature]>ur,ur,df[feature])\n",
    "    #df[feature]=np.where(df[feature]<lr,lr,df[feature])\n",
    "    #df[feature]=np.where(df[feature]<lr,lr,df[feature])"
   ]
  },
  {
   "cell_type": "code",
   "execution_count": null,
   "id": "38c0a3cf",
   "metadata": {},
   "outputs": [],
   "source": [
    "f, ax = plt.subplots(figsize=(10,5))\n",
    "ax = sns.boxplot(data=df,width=0.6,palette=\"Set3\",orient='h',linewidth=0.5)"
   ]
  },
  {
   "cell_type": "markdown",
   "id": "191b3765",
   "metadata": {},
   "source": [
    "Variable transformation"
   ]
  },
  {
   "cell_type": "code",
   "execution_count": null,
   "id": "1ff74f1a",
   "metadata": {},
   "outputs": [],
   "source": [
    "for feature in df.columns: \n",
    "    if df[feature].dtype == 'object': \n",
    "        print('\\n')\n",
    "        print('feature:',feature)\n",
    "        print(pd.Categorical(df[feature].unique()))\n",
    "        print(pd.Categorical(df[feature].unique()).codes)\n",
    "        df[feature] = pd.Categorical(df[feature]).codes"
   ]
  },
  {
   "cell_type": "markdown",
   "id": "93cf00c1",
   "metadata": {},
   "source": [
    "Addition of new variable"
   ]
  },
  {
   "cell_type": "markdown",
   "id": "135ed0e0",
   "metadata": {},
   "source": [
    "Extracting the target column into seperate vectors for training set and test set"
   ]
  },
  {
   "cell_type": "code",
   "execution_count": null,
   "id": "74b82ce4",
   "metadata": {},
   "outputs": [],
   "source": [
    "X = df.drop(\"Churn\", axis=1)\n",
    "y = df.pop(\"Churn\")"
   ]
  },
  {
   "cell_type": "code",
   "execution_count": null,
   "id": "5f811991",
   "metadata": {},
   "outputs": [],
   "source": [
    "from sklearn.model_selection import train_test_split\n",
    "X_train, X_test, train_labels, test_labels = train_test_split(X, y, test_size=.3, random_state=1)"
   ]
  },
  {
   "cell_type": "code",
   "execution_count": null,
   "id": "02eb5f62",
   "metadata": {},
   "outputs": [],
   "source": [
    "print('X_train',X_train.shape)\n",
    "print('X_test',X_test.shape)\n",
    "print('y_train',train_labels.shape)\n",
    "print('y_test',test_labels.shape)"
   ]
  },
  {
   "cell_type": "code",
   "execution_count": null,
   "id": "e6225740",
   "metadata": {},
   "outputs": [],
   "source": [
    "##conda install -c conda-forge py-xgboost"
   ]
  },
  {
   "cell_type": "code",
   "execution_count": null,
   "id": "bb7a73fa",
   "metadata": {
    "scrolled": true
   },
   "outputs": [],
   "source": [
    "##conda install -c conda-forge optuna"
   ]
  },
  {
   "cell_type": "code",
   "execution_count": null,
   "id": "f995e356",
   "metadata": {},
   "outputs": [],
   "source": [
    "# Basic EDA\n",
    "import numpy as np\n",
    "import pandas as pd\n",
    "import matplotlib.pyplot as plt\n",
    "%matplotlib inline\n",
    "import seaborn as sns\n",
    "\n",
    "# Model Preparation\n",
    "from sklearn.model_selection import train_test_split\n",
    "import statsmodels.api as sm\n",
    "from statsmodels.stats.outliers_influence import variance_inflation_factor\n",
    "\n",
    "# Model Building\n",
    "from sklearn import tree\n",
    "from sklearn.linear_model import LogisticRegression\n",
    "from sklearn.tree import DecisionTreeClassifier\n",
    "from sklearn.ensemble import RandomForestClassifier\n",
    "from sklearn.discriminant_analysis import LinearDiscriminantAnalysis\n",
    "from sklearn.neighbors import KNeighborsClassifier\n",
    "from sklearn.naive_bayes import GaussianNB\n",
    "from sklearn.ensemble import ExtraTreesClassifier\n",
    "#\n",
    "from sklearn.ensemble import GradientBoostingClassifier\n",
    "from xgboost import XGBClassifier\n",
    "import optuna.integration.lightgbm as lgb\n",
    "\n",
    "# Model Performance\n",
    "from sklearn.metrics import roc_auc_score,roc_curve,classification_report,confusion_matrix\n",
    "\n",
    "# Model Validation\n",
    "from sklearn.preprocessing import StandardScaler\n",
    "from sklearn.model_selection import GridSearchCV\n",
    "from sklearn.model_selection import cross_val_score"
   ]
  },
  {
   "cell_type": "markdown",
   "id": "e5ec1dd1",
   "metadata": {},
   "source": [
    "It can shows the most important and significant features between all of the features which can mark importance in the performance of the model and get most required business insights.\n",
    "For this we have gone through the following procedure of feature selection :\n",
    "\n",
    "(1) VIF & Multicollinearity (dropping features having VIF>5)\n",
    "(2) Checking P values (dropping features having p values > 0.05)\n",
    "(3) Chi-square Test (Find most influenced features in ascending order)\n",
    "(4) Boruta Algorithm\n"
   ]
  },
  {
   "cell_type": "markdown",
   "id": "6dba9000",
   "metadata": {},
   "source": [
    "1. Checking Multicollinearity & VI"
   ]
  },
  {
   "cell_type": "code",
   "execution_count": null,
   "id": "f962b341",
   "metadata": {},
   "outputs": [],
   "source": [
    "#VIF Dataframe\n",
    "vif_df = pd.DataFrame()\n",
    "vif_df['Feature'] = X_train.columns"
   ]
  },
  {
   "cell_type": "code",
   "execution_count": null,
   "id": "7e137802",
   "metadata": {},
   "outputs": [],
   "source": [
    "#df[pd.isnull(df).any(axis=1)]\n",
    "#np.isinf(df).any()\n",
    "#np.isnan(df).any()"
   ]
  },
  {
   "cell_type": "code",
   "execution_count": null,
   "id": "8b5ec622",
   "metadata": {},
   "outputs": [],
   "source": [
    "# Calculate VIF for each feature\n",
    "vif_df[\"VIF\"] = [variance_inflation_factor(X_train.values,i)\n",
    "                        for i in range(len(X_train.columns))]\n",
    "print(vif_df)"
   ]
  },
  {
   "cell_type": "code",
   "execution_count": null,
   "id": "e767d2d0",
   "metadata": {},
   "outputs": [],
   "source": [
    "vif_df.isna().sum()"
   ]
  },
  {
   "cell_type": "markdown",
   "id": "3aac865f",
   "metadata": {},
   "source": [
    "2. Dropping Variables having VIF>5 and Recheck the VIF Values"
   ]
  },
  {
   "cell_type": "code",
   "execution_count": null,
   "id": "b0e8a56d",
   "metadata": {},
   "outputs": [],
   "source": [
    "X_train = X_train.drop([\"rev_per_month\",\"Login_device\",\"Service_Score\",\"Account_user_count\"], axis=1)\n",
    "X_test = X_test.drop([\"rev_per_month\",\"Login_device\",\"Service_Score\",\"Account_user_count\"], axis=1)\n",
    "print('X_train',X_train.shape)\n",
    "print('X_test',X_test.shape)"
   ]
  },
  {
   "cell_type": "code",
   "execution_count": null,
   "id": "83719452",
   "metadata": {},
   "outputs": [],
   "source": [
    "#VIF Dataframe\n",
    "vif_df = pd.DataFrame()\n",
    "vif_df[\"feature\"] = X_train.columns\n",
    "#\n",
    "# Calculate VIF for each feature\n",
    "vif_df[\"VIF\"] = [variance_inflation_factor(X_train.values,i)\n",
    "                        for i in range(len(X_train.columns))]\n",
    "print(vif_df)"
   ]
  },
  {
   "cell_type": "code",
   "execution_count": null,
   "id": "52f2a86c",
   "metadata": {},
   "outputs": [],
   "source": [
    "vif_df.dropna(axis=0)"
   ]
  },
  {
   "cell_type": "markdown",
   "id": "6d3724d7",
   "metadata": {},
   "source": [
    " Dropping the features having 'p-value' > 0.05"
   ]
  },
  {
   "cell_type": "code",
   "execution_count": null,
   "id": "7dbf2d4e",
   "metadata": {},
   "outputs": [],
   "source": [
    "col = X_train.columns\n",
    "X_train_sm = sm.add_constant(X_train[col])\n",
    "logm2 = sm.Logit(train_labels.astype(float),X_train_sm.astype(float), family = sm.families.Binomial())\n",
    "res = logm2.fit()\n",
    "res.summary()"
   ]
  },
  {
   "cell_type": "code",
   "execution_count": null,
   "id": "201c39a6",
   "metadata": {},
   "outputs": [],
   "source": [
    "X_train = X_train.drop(['rev_growth_yoy'],axis=1)\n",
    "X_test = X_test.drop(['rev_growth_yoy'],axis=1)\n"
   ]
  },
  {
   "cell_type": "markdown",
   "id": "560ed58d",
   "metadata": {},
   "source": [
    "Iteration-2"
   ]
  },
  {
   "cell_type": "code",
   "execution_count": null,
   "id": "d844c499",
   "metadata": {},
   "outputs": [],
   "source": [
    "col = X_train.columns\n",
    "X_train_sm = sm.add_constant(X_train[col])\n",
    "logm2 = sm.Logit(train_labels.astype(float),X_train_sm.astype(float), family = sm.families.Binomial())\n",
    "res = logm2.fit()\n",
    "res.summary()\n"
   ]
  },
  {
   "cell_type": "markdown",
   "id": "b1845779",
   "metadata": {},
   "source": [
    "3. Using p-values Check"
   ]
  },
  {
   "cell_type": "markdown",
   "id": "632db7b7",
   "metadata": {},
   "source": [
    "Dropping the features having 'p-value' > 0.05"
   ]
  },
  {
   "cell_type": "code",
   "execution_count": null,
   "id": "896057a9",
   "metadata": {},
   "outputs": [],
   "source": [
    "col = X_train.columns\n",
    "X_train_sm = sm.add_constant(X_train[col])\n",
    "logm2 = sm.Logit(train_labels.astype(float),X_train_sm.astype(float), family = sm.families.Binomial())\n",
    "res = logm2.fit()\n",
    "res.summary()"
   ]
  },
  {
   "cell_type": "code",
   "execution_count": null,
   "id": "902a4612",
   "metadata": {},
   "outputs": [],
   "source": [
    "X_train = X_train.drop(['rev_growth_yoy'],axis=1)\n",
    "X_test = X_test.drop(['rev_growth_yoy'],axis=1)"
   ]
  },
  {
   "cell_type": "markdown",
   "id": "a6203ba7",
   "metadata": {},
   "source": [
    "4. Recursive Feature Elimination"
   ]
  },
  {
   "cell_type": "code",
   "execution_count": null,
   "id": "e59ee585",
   "metadata": {},
   "outputs": [],
   "source": [
    "print('X_train',X_train.shape)\n",
    "print('X_test',X_test.shape)"
   ]
  },
  {
   "cell_type": "markdown",
   "id": "2e9bf52f",
   "metadata": {},
   "source": [
    "We have prepare the following model procedures to analyze and review the dataset and get the performance and importance of the features available on the dataset which can gathers more informations about the subjects.\n",
    "Following is the list of model building procedure can used in this project :\n",
    "\n",
    "(1) Logistics Regression\n",
    "(2) Decision Tree\n",
    "(3) Random Forest\n",
    "(4) Linear Discriminant Analysis\n",
    "(5) K Nearest Neighbours\n",
    "(6) Naive Bayes\n",
    "(7) Gradient Boosting\n",
    "(8) Extreme Gradient Boosting\n",
    "(9) Extra Tree Classifier\n",
    "\n",
    "For every model building precure, we have gone through the following steps get outputs generated by the alogorithm :\n",
    "\n",
    "(a) Model Prediction\n",
    "(b) Model Performance\n",
    "(c) ROC-AUC Graph\n",
    "(d) Model Performance Matrics\n"
   ]
  },
  {
   "cell_type": "markdown",
   "id": "f67ed254",
   "metadata": {},
   "source": [
    "1. Logistic Regression"
   ]
  },
  {
   "cell_type": "code",
   "execution_count": null,
   "id": "4a49afc7",
   "metadata": {},
   "outputs": [],
   "source": [
    "#from sklearn.utils import shuffle\n",
    "X_shuf, Y_shuf = shuffle(X_transformed, Y)"
   ]
  },
  {
   "cell_type": "code",
   "execution_count": null,
   "id": "10716e08",
   "metadata": {},
   "outputs": [],
   "source": [
    "model = LogisticRegression(C=2.0, \n",
    "                           class_weight=None, \n",
    "                           dual=False, \n",
    "                           fit_intercept=True,\n",
    "                           intercept_scaling=1, \n",
    "                           l1_ratio=None, \n",
    "                           max_iter=100,\n",
    "                           n_jobs=None, \n",
    "                           penalty='l2',\n",
    "                           random_state=1, \n",
    "                           solver='liblinear', \n",
    "                           tol=0.0001, \n",
    "                           verbose=0,\n",
    "                           warm_start=False)\n",
    "model.fit(X_train, train_labels)"
   ]
  },
  {
   "cell_type": "markdown",
   "id": "a33c56e1",
   "metadata": {},
   "source": [
    "1. (a) Model Prediction"
   ]
  },
  {
   "cell_type": "code",
   "execution_count": null,
   "id": "1bcf1c9a",
   "metadata": {},
   "outputs": [],
   "source": [
    "y_predict_train = model.predict(X_train)\n",
    "log_train_acc = model.score(X_train, train_labels)\n",
    "log_train_acc"
   ]
  },
  {
   "cell_type": "code",
   "execution_count": null,
   "id": "c100677c",
   "metadata": {},
   "outputs": [],
   "source": [
    "y_predict_test = model.predict(X_test)\n",
    "log_test_acc = model.score(X_test, test_labels)\n",
    "log_test_acc"
   ]
  },
  {
   "cell_type": "code",
   "execution_count": null,
   "id": "7ad29094",
   "metadata": {},
   "outputs": [],
   "source": [
    "model.intercept_"
   ]
  },
  {
   "cell_type": "code",
   "execution_count": null,
   "id": "9a4379a9",
   "metadata": {},
   "outputs": [],
   "source": [
    "model.coef_"
   ]
  },
  {
   "cell_type": "markdown",
   "id": "8c004f07",
   "metadata": {},
   "source": [
    "1. (b) Model Performance"
   ]
  },
  {
   "cell_type": "code",
   "execution_count": null,
   "id": "c11a18b6",
   "metadata": {},
   "outputs": [],
   "source": [
    "confusion_matrix(train_labels, y_predict_train)"
   ]
  },
  {
   "cell_type": "code",
   "execution_count": null,
   "id": "dfd9898c",
   "metadata": {},
   "outputs": [],
   "source": [
    "print(classification_report(train_labels, y_predict_train))"
   ]
  },
  {
   "cell_type": "code",
   "execution_count": null,
   "id": "ef103f72",
   "metadata": {},
   "outputs": [],
   "source": [
    "confusion_matrix(test_labels, y_predict_test)"
   ]
  },
  {
   "cell_type": "code",
   "execution_count": null,
   "id": "8e45c0b0",
   "metadata": {},
   "outputs": [],
   "source": [
    "print(classification_report(test_labels, y_predict_test))"
   ]
  },
  {
   "cell_type": "markdown",
   "id": "452f2bc3",
   "metadata": {},
   "source": [
    "1. (c) ROC-AUC Graph"
   ]
  },
  {
   "cell_type": "code",
   "execution_count": null,
   "id": "684fd15a",
   "metadata": {},
   "outputs": [],
   "source": [
    "# AUC and ROC for the training data\n",
    "\n",
    "# predict probabilities\n",
    "probs = model.predict_proba(X_train)\n",
    "\n",
    "# keep probabilities for the positive outcome only\n",
    "probs = probs[:, 1]\n",
    "\n",
    "# calculate AUC\n",
    "from sklearn.metrics import roc_auc_score\n",
    "log_train_auc = roc_auc_score(train_labels, probs)\n",
    "print('AUC: %.3f' % log_train_auc)\n",
    "\n",
    "# calculate roc curve\n",
    "from sklearn.metrics import roc_curve\n",
    "log_train_fpr, log_train_tpr, train_thresholds = roc_curve(train_labels, probs)\n",
    "plt.plot([0, 1], [0, 1], linestyle='--')\n",
    "\n",
    "# plot the roc curve for the model\n",
    "plt.plot(log_train_fpr, log_train_tpr, marker='.')\n",
    "\n",
    "# show the plot\n",
    "plt.show()"
   ]
  },
  {
   "cell_type": "code",
   "execution_count": null,
   "id": "6d8279bd",
   "metadata": {},
   "outputs": [],
   "source": [
    "# AUC and ROC for the test data\n",
    "\n",
    "# predict probabilities\n",
    "probs = model.predict_proba(X_test)\n",
    "\n",
    "# keep probabilities for the positive outcome only\n",
    "probs = probs[:, 1]\n",
    "\n",
    "# calculate AUC\n",
    "from sklearn.metrics import roc_auc_score\n",
    "log_test_auc = roc_auc_score(test_labels, probs)\n",
    "print('AUC: %.3f' % log_test_auc)\n",
    "\n",
    "# calculate roc curve\n",
    "from sklearn.metrics import roc_curve\n",
    "log_test_fpr, log_test_tpr, test_thresholds = roc_curve(test_labels, probs)\n",
    "plt.plot([0, 1], [0, 1], linestyle='--')\n",
    "\n",
    "# plot the roc curve for the model\n",
    "plt.plot(log_test_fpr, log_test_tpr, marker='.')\n",
    "\n",
    "# show the plot\n",
    "plt.show()"
   ]
  },
  {
   "cell_type": "markdown",
   "id": "caf07b19",
   "metadata": {},
   "source": [
    "1. (d) Model Performance Metrices"
   ]
  },
  {
   "cell_type": "code",
   "execution_count": null,
   "id": "fe382bfb",
   "metadata": {},
   "outputs": [],
   "source": [
    "log_metrics=classification_report(train_labels, y_predict_train,output_dict=True)\n",
    "df=pd.DataFrame(log_metrics).transpose()\n",
    "log_train_precision=round(df.loc[\"1\"][0],2)\n",
    "log_train_recall=round(df.loc[\"1\"][1],2)\n",
    "log_train_f1=round(df.loc[\"1\"][2],2)\n",
    "print ('log_train_precision ',log_train_precision)\n",
    "print ('log_train_recall ',log_train_recall)\n",
    "print ('log_train_f1 ',log_train_f1)"
   ]
  },
  {
   "cell_type": "code",
   "execution_count": null,
   "id": "61fb492e",
   "metadata": {},
   "outputs": [],
   "source": [
    "log_metrics=classification_report(test_labels, y_predict_test,output_dict=True)\n",
    "df=pd.DataFrame(log_metrics).transpose()\n",
    "log_test_precision=round(df.loc[\"1\"][0],2)\n",
    "log_test_recall=round(df.loc[\"1\"][1],2)\n",
    "log_test_f1=round(df.loc[\"1\"][2],2)\n",
    "print ('log_test_precision ',log_test_precision)\n",
    "print ('log_test_recall ',log_test_recall)\n",
    "print ('log_test_f1 ',log_test_f1)\n"
   ]
  },
  {
   "cell_type": "markdown",
   "id": "4904cea8",
   "metadata": {},
   "source": [
    "2.Decision tree"
   ]
  },
  {
   "cell_type": "code",
   "execution_count": null,
   "id": "442d589c",
   "metadata": {},
   "outputs": [],
   "source": [
    "dtcl = DecisionTreeClassifier(random_state=1)\n",
    "dtcl.fit(X_train, train_labels)\n"
   ]
  },
  {
   "cell_type": "code",
   "execution_count": null,
   "id": "2ea73f11",
   "metadata": {},
   "outputs": [],
   "source": [
    "param_grid_dt = {\n",
    "    'criterion': ['gini'],\n",
    "    'max_depth': [10],\n",
    "    'min_samples_leaf': [10], \n",
    "    'min_samples_split': [50],\n",
    "}\n",
    "gs_dtcl = GridSearchCV(dtcl, param_grid_dt, cv = 5, n_jobs = -1, verbose = 1)\n",
    "gs_dtcl.fit(X_train, train_labels)"
   ]
  },
  {
   "cell_type": "markdown",
   "id": "16276b25",
   "metadata": {},
   "source": [
    "2. (a) Model Prediction"
   ]
  },
  {
   "cell_type": "code",
   "execution_count": null,
   "id": "efaf8bf6",
   "metadata": {},
   "outputs": [],
   "source": [
    "print(gs_dtcl.best_params_)\n",
    "best_grid = gs_dtcl.best_estimator_\n",
    "best_grid"
   ]
  },
  {
   "cell_type": "code",
   "execution_count": null,
   "id": "bd4ee5d9",
   "metadata": {},
   "outputs": [],
   "source": [
    "gs_dtcl.best_score_"
   ]
  },
  {
   "cell_type": "code",
   "execution_count": null,
   "id": "f107c840",
   "metadata": {},
   "outputs": [],
   "source": [
    "dot_data1 = tree.export_graphviz(dtcl, out_file=None , feature_names = list(X_train))\n",
    "fig = plt.figure(figsize=(100,50))\n",
    "_ = tree.plot_tree(dtcl, \n",
    "                   feature_names=list(X_train),  \n",
    "                   filled=True)\n"
   ]
  },
  {
   "cell_type": "code",
   "execution_count": null,
   "id": "a66b885e",
   "metadata": {},
   "outputs": [],
   "source": [
    "dt_imp = pd.DataFrame(dtcl.feature_importances_, columns = [\"Imp\"], index = X_train.columns)\n",
    "print(dt_imp)"
   ]
  },
  {
   "cell_type": "code",
   "execution_count": null,
   "id": "4a2a2b59",
   "metadata": {},
   "outputs": [],
   "source": [
    "reg_dtcl = DecisionTreeClassifier(criterion = 'gini',max_depth = 5,min_samples_leaf=10,min_samples_split=30)\n",
    "reg_dtcl.fit(X_train, train_labels)\n"
   ]
  },
  {
   "cell_type": "code",
   "execution_count": null,
   "id": "c1e07d01",
   "metadata": {},
   "outputs": [],
   "source": [
    "dot_data2 = tree.export_graphviz(reg_dtcl, out_file=None , feature_names = list(X_train))\n",
    "fig = plt.figure(figsize=(200,100))\n",
    "_ = tree.plot_tree(reg_dtcl, \n",
    "                   feature_names=list(X_train),  \n",
    "                   filled=True)"
   ]
  },
  {
   "cell_type": "code",
   "execution_count": null,
   "id": "257f4af7",
   "metadata": {},
   "outputs": [],
   "source": [
    "ytrain_predict = reg_dtcl.predict(X_train)\n",
    "ytest_predict = reg_dtcl.predict(X_test)\n",
    "ytrain_predict_prob=best_grid.predict_proba(X_train)\n",
    "pd.DataFrame(ytrain_predict_prob).head()"
   ]
  },
  {
   "cell_type": "code",
   "execution_count": null,
   "id": "8ccf5b51",
   "metadata": {},
   "outputs": [],
   "source": [
    "ytest_predict_prob=best_grid.predict_proba(X_test)\n",
    "pd.DataFrame(ytest_predict_prob).head()"
   ]
  },
  {
   "cell_type": "markdown",
   "id": "d78bab95",
   "metadata": {},
   "source": [
    "# 2. (b) Model Performance"
   ]
  },
  {
   "cell_type": "code",
   "execution_count": null,
   "id": "54a64435",
   "metadata": {},
   "outputs": [],
   "source": [
    "confusion_matrix(train_labels, ytrain_predict)"
   ]
  },
  {
   "cell_type": "code",
   "execution_count": null,
   "id": "be2395d3",
   "metadata": {},
   "outputs": [],
   "source": [
    "confusion_matrix(test_labels, ytest_predict)\n"
   ]
  },
  {
   "cell_type": "code",
   "execution_count": null,
   "id": "ef92a45c",
   "metadata": {},
   "outputs": [],
   "source": [
    "cart_train_acc=best_grid.score(X_train,train_labels) \n",
    "cart_train_acc"
   ]
  },
  {
   "cell_type": "code",
   "execution_count": null,
   "id": "366bc007",
   "metadata": {},
   "outputs": [],
   "source": [
    "cart_test_acc=best_grid.score(X_test,test_labels)\n",
    "cart_test_acc"
   ]
  },
  {
   "cell_type": "code",
   "execution_count": null,
   "id": "a2269cef",
   "metadata": {},
   "outputs": [],
   "source": [
    "print(classification_report(train_labels, ytrain_predict))"
   ]
  },
  {
   "cell_type": "code",
   "execution_count": null,
   "id": "f0505c2e",
   "metadata": {},
   "outputs": [],
   "source": [
    "print(classification_report(test_labels, ytest_predict))\n"
   ]
  },
  {
   "cell_type": "markdown",
   "id": "751a2b52",
   "metadata": {},
   "source": [
    "2. (c) ROC-AUC Graph"
   ]
  },
  {
   "cell_type": "code",
   "execution_count": null,
   "id": "f5bfd01b",
   "metadata": {},
   "outputs": [],
   "source": [
    "# AUC and ROC for the training data\n",
    "\n",
    "# predict probabilities\n",
    "probs = reg_dtcl.predict_proba(X_train)\n",
    "\n",
    "# keep probabilities for the positive outcome only\n",
    "probs = probs[:, 1]\n",
    "\n",
    "# calculate AUC\n",
    "from sklearn.metrics import roc_auc_score\n",
    "cart_train_auc = roc_auc_score(train_labels, probs)\n",
    "print('AUC: %.3f' % cart_train_auc)\n",
    "\n",
    "# calculate roc curve\n",
    "from sklearn.metrics import roc_curve\n",
    "cart_train_fpr, cart_train_tpr, cart_train_thresholds = roc_curve(train_labels, probs)\n",
    "plt.plot([0, 1], [0, 1], linestyle='--')\n",
    "\n",
    "# plot the roc curve for the model\n",
    "plt.plot(cart_train_fpr, cart_train_tpr, marker='.')\n",
    "\n",
    "# show the plot\n",
    "plt.show()"
   ]
  },
  {
   "cell_type": "code",
   "execution_count": null,
   "id": "07d45d75",
   "metadata": {},
   "outputs": [],
   "source": [
    "# AUC and ROC for the test data\n",
    "\n",
    "# predict probabilities\n",
    "probs = reg_dtcl.predict_proba(X_test)\n",
    "\n",
    "# keep probabilities for the positive outcome only\n",
    "probs = probs[:, 1]\n",
    "\n",
    "# calculate AUC\n",
    "from sklearn.metrics import roc_auc_score\n",
    "cart_test_auc = roc_auc_score(test_labels, probs)\n",
    "print('AUC: %.3f' % cart_test_auc)\n",
    "\n",
    "# calculate roc curve\n",
    "from sklearn.metrics import roc_curve\n",
    "cart_test_fpr, cart_test_tpr, cart_test_thresholds = roc_curve(test_labels, probs)\n",
    "plt.plot([0, 1], [0, 1], linestyle='--')\n",
    "\n",
    "# plot the roc curve for the model\n",
    "plt.plot(cart_test_fpr, cart_test_tpr, marker='.')\n",
    "\n",
    "# show the plot\n",
    "plt.show()"
   ]
  },
  {
   "cell_type": "markdown",
   "id": "d60b97a1",
   "metadata": {},
   "source": [
    "2. (d) Model Performance Metrices"
   ]
  },
  {
   "cell_type": "code",
   "execution_count": null,
   "id": "054afec1",
   "metadata": {},
   "outputs": [],
   "source": [
    "cart_metrics=classification_report(train_labels, ytrain_predict,output_dict=True)\n",
    "df=pd.DataFrame(cart_metrics).transpose()\n",
    "cart_train_f1=round(df.loc[\"1\"][2],2)\n",
    "cart_train_recall=round(df.loc[\"1\"][1],2)\n",
    "cart_train_precision=round(df.loc[\"1\"][0],2)\n",
    "print ('cart_train_precision ',cart_train_precision)\n",
    "print ('cart_train_recall ',cart_train_recall)\n",
    "print ('cart_train_f1 ',cart_train_f1)\n"
   ]
  },
  {
   "cell_type": "code",
   "execution_count": null,
   "id": "5396da30",
   "metadata": {},
   "outputs": [],
   "source": [
    "cart_metrics=classification_report(test_labels, ytest_predict,output_dict=True)\n",
    "df=pd.DataFrame(cart_metrics).transpose()\n",
    "cart_test_precision=round(df.loc[\"1\"][0],2)\n",
    "cart_test_recall=round(df.loc[\"1\"][1],2)\n",
    "cart_test_f1=round(df.loc[\"1\"][2],2)\n",
    "print ('cart_test_precision ',cart_test_precision)\n",
    "print ('cart_test_recall ',cart_test_recall)\n",
    "print ('cart_test_f1 ',cart_test_f1)"
   ]
  },
  {
   "cell_type": "markdown",
   "id": "e5f05e61",
   "metadata": {},
   "source": [
    "2. (e) Feature Importance"
   ]
  },
  {
   "cell_type": "code",
   "execution_count": null,
   "id": "f4f7d06b",
   "metadata": {},
   "outputs": [],
   "source": [
    "reg_dt_imp = pd.DataFrame(best_grid.feature_importances_, columns = [\"Imp\"], \n",
    "                          index = X_train.columns).sort_values('Imp',ascending=False)\n",
    "print(reg_dt_imp)"
   ]
  },
  {
   "cell_type": "markdown",
   "id": "e1f43237",
   "metadata": {},
   "source": [
    "3. Random Forest"
   ]
  },
  {
   "cell_type": "code",
   "execution_count": null,
   "id": "3c751c2d",
   "metadata": {},
   "outputs": [],
   "source": [
    "param_grid = {\n",
    "    'max_depth': [10],## 20,30,40\n",
    "    'max_features': [11],## 7,8,9\n",
    "    'min_samples_leaf': [10],## 50,100\n",
    "    'min_samples_split': [50], ## 60,70\n",
    "    'n_estimators': [100] ## 100,200\n",
    "}\n",
    "rfcl = RandomForestClassifier(random_state=1)\n",
    "grid_search_rf = GridSearchCV(estimator = rfcl, param_grid = param_grid, cv = 5)"
   ]
  },
  {
   "cell_type": "code",
   "execution_count": null,
   "id": "004eaf26",
   "metadata": {},
   "outputs": [],
   "source": [
    "grid_search_rf.fit(X_train, train_labels)"
   ]
  },
  {
   "cell_type": "code",
   "execution_count": null,
   "id": "bacb83c0",
   "metadata": {},
   "outputs": [],
   "source": [
    "grid_search_rf.best_params_"
   ]
  },
  {
   "cell_type": "code",
   "execution_count": null,
   "id": "61b5956f",
   "metadata": {},
   "outputs": [],
   "source": [
    "best_grid_rf = grid_search_rf.best_estimator_\n",
    "best_grid_rf"
   ]
  },
  {
   "cell_type": "code",
   "execution_count": null,
   "id": "b1c47acf",
   "metadata": {},
   "outputs": [],
   "source": [
    "# To understand the differences of different random states affecting Out-of-Bag score\n",
    "random_state=[0,30,64]\n",
    "for i in random_state:\n",
    "    rfcl=RandomForestClassifier(random_state=i,oob_score=True)\n",
    "    rfcl.fit(X_train,train_labels)\n",
    "    print(rfcl.oob_score_)"
   ]
  },
  {
   "cell_type": "code",
   "execution_count": null,
   "id": "4f8b67b7",
   "metadata": {},
   "outputs": [],
   "source": [
    "rfcl=RandomForestClassifier(n_estimators=500,random_state=1,oob_score=True,n_jobs=-1)\n",
    "rfcl=rfcl.fit(X_train,train_labels)\n",
    "rfcl.oob_score_\n"
   ]
  },
  {
   "cell_type": "code",
   "execution_count": null,
   "id": "5b05f559",
   "metadata": {},
   "outputs": [],
   "source": [
    "rfcl=rfcl.fit(X_test,test_labels)\n",
    "rfcl.oob_score_"
   ]
  },
  {
   "cell_type": "markdown",
   "id": "28998d35",
   "metadata": {},
   "source": [
    "3. (a) Model Prediction"
   ]
  },
  {
   "cell_type": "code",
   "execution_count": null,
   "id": "953fa21f",
   "metadata": {},
   "outputs": [],
   "source": [
    "ytrain_predict = best_grid_rf.predict(X_train)\n",
    "ytest_predict = best_grid_rf.predict(X_test)\n",
    "ytrain_predict_prob=best_grid_rf.predict_proba(X_train)\n",
    "pd.DataFrame(ytrain_predict_prob).head()"
   ]
  },
  {
   "cell_type": "code",
   "execution_count": null,
   "id": "fd520056",
   "metadata": {},
   "outputs": [],
   "source": [
    "ytest_predict_prob=best_grid_rf.predict_proba(X_test)\n",
    "pd.DataFrame(ytest_predict_prob).head()"
   ]
  },
  {
   "cell_type": "markdown",
   "id": "fd37b66a",
   "metadata": {},
   "source": [
    "3. (b) Model Performance"
   ]
  },
  {
   "cell_type": "code",
   "execution_count": null,
   "id": "d5cbf367",
   "metadata": {},
   "outputs": [],
   "source": [
    "confusion_matrix(train_labels,ytrain_predict)"
   ]
  },
  {
   "cell_type": "code",
   "execution_count": null,
   "id": "8fce2d7b",
   "metadata": {},
   "outputs": [],
   "source": [
    "confusion_matrix(test_labels, ytest_predict)"
   ]
  },
  {
   "cell_type": "code",
   "execution_count": null,
   "id": "9f432eb5",
   "metadata": {},
   "outputs": [],
   "source": [
    "rf_train_acc=best_grid.score(X_train,train_labels) \n",
    "rf_train_acc"
   ]
  },
  {
   "cell_type": "code",
   "execution_count": null,
   "id": "c781e33e",
   "metadata": {},
   "outputs": [],
   "source": [
    "rf_test_acc=best_grid.score(X_test,test_labels)\n",
    "rf_test_acc"
   ]
  },
  {
   "cell_type": "code",
   "execution_count": null,
   "id": "7e384b1c",
   "metadata": {},
   "outputs": [],
   "source": [
    "print(classification_report(train_labels,ytrain_predict))"
   ]
  },
  {
   "cell_type": "code",
   "execution_count": null,
   "id": "cdd8a781",
   "metadata": {},
   "outputs": [],
   "source": [
    "print(classification_report(test_labels, ytest_predict))"
   ]
  },
  {
   "cell_type": "markdown",
   "id": "0e6c89e8",
   "metadata": {},
   "source": [
    "3. (c) ROC-AUC Graph"
   ]
  },
  {
   "cell_type": "code",
   "execution_count": null,
   "id": "a0f65cd9",
   "metadata": {},
   "outputs": [],
   "source": [
    "rf_train_fpr, rf_train_tpr,_=roc_curve(train_labels,best_grid.predict_proba(X_train)[:,1])\n",
    "plt.plot(rf_train_fpr,rf_train_tpr,color='green')\n",
    "plt.plot([0, 1], [0, 1], linestyle='--')\n",
    "plt.xlabel('False Positive Rate')\n",
    "plt.ylabel('True Positive Rate')\n",
    "plt.title('ROC')\n",
    "rf_train_auc=roc_auc_score(train_labels,best_grid.predict_proba(X_train)[:,1])\n",
    "print('Area under Curve is', rf_train_auc)\n"
   ]
  },
  {
   "cell_type": "code",
   "execution_count": null,
   "id": "b9d71b44",
   "metadata": {},
   "outputs": [],
   "source": [
    "rf_test_fpr, rf_test_tpr,_=roc_curve(test_labels,best_grid.predict_proba(X_test)[:,1])\n",
    "plt.plot(rf_test_fpr,rf_test_tpr,color='green')\n",
    "plt.plot([0, 1], [0, 1], linestyle='--')\n",
    "plt.xlabel('False Positive Rate')\n",
    "plt.ylabel('True Positive Rate')\n",
    "plt.title('ROC')\n",
    "rf_test_auc=roc_auc_score(test_labels,best_grid.predict_proba(X_test)[:,1])\n",
    "print('Area under Curve is', rf_test_auc)"
   ]
  },
  {
   "cell_type": "markdown",
   "id": "6b575050",
   "metadata": {},
   "source": [
    "3. (d) Model Performance Metrices"
   ]
  },
  {
   "cell_type": "code",
   "execution_count": null,
   "id": "83809916",
   "metadata": {},
   "outputs": [],
   "source": [
    "rf_metrics=classification_report(train_labels, ytrain_predict,output_dict=True)\n",
    "df=pd.DataFrame(rf_metrics).transpose()\n",
    "rf_train_precision=round(df.loc[\"1\"][0],2)\n",
    "rf_train_recall=round(df.loc[\"1\"][1],2)\n",
    "rf_train_f1=round(df.loc[\"1\"][2],2)\n",
    "print ('rf_train_precision ',rf_train_precision)\n",
    "print ('rf_train_recall ',rf_train_recall)\n",
    "print ('rf_train_f1 ',rf_train_f1)"
   ]
  },
  {
   "cell_type": "code",
   "execution_count": null,
   "id": "15d02f24",
   "metadata": {},
   "outputs": [],
   "source": [
    "rf_metrics=classification_report(test_labels, ytest_predict,output_dict=True)\n",
    "df=pd.DataFrame(rf_metrics).transpose()\n",
    "rf_test_precision=round(df.loc[\"1\"][0],2)\n",
    "rf_test_recall=round(df.loc[\"1\"][1],2)\n",
    "rf_test_f1=round(df.loc[\"1\"][2],2)\n",
    "print ('rf_test_precision ',rf_test_precision)\n",
    "print ('rf_test_recall ',rf_test_recall)\n",
    "print ('rf_test_f1 ',rf_test_f1)"
   ]
  },
  {
   "cell_type": "markdown",
   "id": "6d314b76",
   "metadata": {},
   "source": [
    "3.(e) Feature Importance"
   ]
  },
  {
   "cell_type": "code",
   "execution_count": null,
   "id": "1c0107d4",
   "metadata": {},
   "outputs": [],
   "source": [
    "rf_imp = pd.DataFrame(best_grid_rf.feature_importances_, columns = [\"Imp\"], \n",
    "                      index = X_train.columns).sort_values('Imp',ascending=False)\n",
    "print(rf_imp)"
   ]
  },
  {
   "cell_type": "markdown",
   "id": "fcc4b457",
   "metadata": {},
   "source": [
    "4. Linear Discriminant Analysis"
   ]
  },
  {
   "cell_type": "code",
   "execution_count": null,
   "id": "1ecdbb5c",
   "metadata": {},
   "outputs": [],
   "source": [
    "clf = LinearDiscriminantAnalysis(solver='eigen',shrinkage = 'auto',)\n",
    "model=clf.fit(X_train,train_labels)\n",
    "model"
   ]
  },
  {
   "cell_type": "markdown",
   "id": "8a9ca296",
   "metadata": {},
   "source": [
    "4. (a) Model Prediction¶"
   ]
  },
  {
   "cell_type": "code",
   "execution_count": null,
   "id": "2c18882b",
   "metadata": {},
   "outputs": [],
   "source": [
    "# Training Data Class Prediction with a cut-off value of 0.5\n",
    "pred_class_train = model.predict(X_train)\n",
    "#*************************************************************#\n",
    "# Test Data Class Prediction with a cut-off value of 0.5\n",
    "pred_class_test = model.predict(X_test)\n",
    "pred_class_test"
   ]
  },
  {
   "cell_type": "code",
   "execution_count": null,
   "id": "1fa39561",
   "metadata": {},
   "outputs": [],
   "source": [
    "# Training Data Probability Prediction\n",
    "pred_prob_train = model.predict_proba(X_train)\n",
    "#*************************************************************#\n",
    "# Test Data Probability Prediction\n",
    "pred_prob_test = model.predict_proba(X_test)\n"
   ]
  },
  {
   "cell_type": "markdown",
   "id": "77b2e60f",
   "metadata": {},
   "source": [
    "4. (b) Model Performance"
   ]
  },
  {
   "cell_type": "code",
   "execution_count": null,
   "id": "4e5061af",
   "metadata": {},
   "outputs": [],
   "source": [
    "confusion_matrix(train_labels, pred_class_train)"
   ]
  },
  {
   "cell_type": "code",
   "execution_count": null,
   "id": "aa6ed362",
   "metadata": {},
   "outputs": [],
   "source": [
    "confusion_matrix(test_labels, pred_class_test)"
   ]
  },
  {
   "cell_type": "code",
   "execution_count": null,
   "id": "519e0805",
   "metadata": {},
   "outputs": [],
   "source": [
    "lda_train_acc = model.score(X_train,train_labels)\n",
    "lda_train_acc"
   ]
  },
  {
   "cell_type": "code",
   "execution_count": null,
   "id": "5286fbe8",
   "metadata": {},
   "outputs": [],
   "source": [
    "lda_test_acc = model.score(X_test,test_labels)\n",
    "lda_test_acc"
   ]
  },
  {
   "cell_type": "code",
   "execution_count": null,
   "id": "d7d8e460",
   "metadata": {},
   "outputs": [],
   "source": [
    "print(classification_report(train_labels, pred_class_train))"
   ]
  },
  {
   "cell_type": "code",
   "execution_count": null,
   "id": "826e440f",
   "metadata": {},
   "outputs": [],
   "source": [
    "print(classification_report(test_labels, pred_class_test))"
   ]
  },
  {
   "cell_type": "markdown",
   "id": "d8cb82f3",
   "metadata": {},
   "source": [
    "4. (c) ROC-AUC Graph¶\n"
   ]
  },
  {
   "cell_type": "code",
   "execution_count": null,
   "id": "5ea40b01",
   "metadata": {},
   "outputs": [],
   "source": [
    "# AUC and ROC for the training data\n",
    "\n",
    "# predict probabilities\n",
    "probs = model.predict_proba(X_train)\n",
    "\n",
    "# keep probabilities for the positive outcome only\n",
    "probs = probs[:, 1]\n",
    "\n",
    "# calculate AUC\n",
    "from sklearn.metrics import roc_auc_score\n",
    "lda_train_auc = roc_auc_score(train_labels, probs)\n",
    "print('AUC: %.3f' % cart_train_auc)\n",
    "\n",
    "# calculate roc curve\n",
    "from sklearn.metrics import roc_curve\n",
    "lda_train_fpr, lda_train_tpr, lda_train_thresholds = roc_curve(train_labels, probs)\n",
    "plt.plot([0, 1], [0, 1], linestyle='--')\n",
    "\n",
    "# plot the roc curve for the model\n",
    "plt.plot(lda_train_fpr, lda_train_tpr, marker='.')\n",
    "\n",
    "# show the plot\n",
    "plt.show()"
   ]
  },
  {
   "cell_type": "code",
   "execution_count": null,
   "id": "fc500aa4",
   "metadata": {},
   "outputs": [],
   "source": [
    "# AUC and ROC for the test data\n",
    "\n",
    "# predict probabilities\n",
    "probs = model.predict_proba(X_test)\n",
    "\n",
    "# keep probabilities for the positive outcome only\n",
    "probs = probs[:, 1]\n",
    "\n",
    "# calculate AUC\n",
    "from sklearn.metrics import roc_auc_score\n",
    "lda_test_auc = roc_auc_score(test_labels, probs)\n",
    "print('AUC: %.3f' % cart_test_auc)\n",
    "\n",
    "# calculate roc curve\n",
    "from sklearn.metrics import roc_curve\n",
    "lda_test_fpr, lda_test_tpr, lda_test_thresholds = roc_curve(test_labels, probs)\n",
    "plt.plot([0, 1], [0, 1], linestyle='--')\n",
    "\n",
    "# plot the roc curve for the model\n",
    "plt.plot(lda_test_fpr, lda_test_tpr, marker='.')\n",
    "\n",
    "# show the plot\n",
    "plt.show()"
   ]
  },
  {
   "cell_type": "markdown",
   "id": "8f1eda9a",
   "metadata": {},
   "source": [
    "4. (d) Model Performance Metrices"
   ]
  },
  {
   "cell_type": "code",
   "execution_count": null,
   "id": "62242818",
   "metadata": {},
   "outputs": [],
   "source": [
    "lda_metrics=classification_report(train_labels, pred_class_train,output_dict=True)\n",
    "df=pd.DataFrame(lda_metrics).transpose()\n",
    "lda_train_f1=round(df.loc[\"1\"][2],2)\n",
    "lda_train_recall=round(df.loc[\"1\"][1],2)\n",
    "lda_train_precision=round(df.loc[\"1\"][0],2)\n",
    "print ('lda_train_precision ',lda_train_precision)\n",
    "print ('lda_train_recall ',lda_train_recall)\n",
    "print ('lda_train_f1 ',lda_train_f1)"
   ]
  },
  {
   "cell_type": "code",
   "execution_count": null,
   "id": "f3a94f21",
   "metadata": {},
   "outputs": [],
   "source": [
    "lda_metrics=classification_report(test_labels, pred_class_test,output_dict=True)\n",
    "df=pd.DataFrame(lda_metrics).transpose()\n",
    "lda_test_f1=round(df.loc[\"0\"][2],2)\n",
    "lda_test_recall=round(df.loc[\"0\"][1],2)\n",
    "lda_test_precision=round(df.loc[\"0\"][0],2)\n",
    "print ('lda_test_precision ',lda_test_precision)\n",
    "print ('lda_test_recall ',lda_test_recall)\n",
    "print ('lda_test_f1 ',lda_test_f1)\n"
   ]
  },
  {
   "cell_type": "markdown",
   "id": "033cc0ac",
   "metadata": {},
   "source": [
    "5. K Nearest Neighbours"
   ]
  },
  {
   "cell_type": "code",
   "execution_count": null,
   "id": "b7705274",
   "metadata": {},
   "outputs": [],
   "source": [
    "KNN_model=KNeighborsClassifier(n_neighbors = 15,\n",
    "                              weights = 'uniform',\n",
    "                              metric = 'minkowski')\n",
    "KNN_model.fit(X_train,train_labels)"
   ]
  },
  {
   "cell_type": "markdown",
   "id": "76d2a1e3",
   "metadata": {},
   "source": [
    "5. (a) Model Prediction¶"
   ]
  },
  {
   "cell_type": "code",
   "execution_count": null,
   "id": "0afee2c9",
   "metadata": {},
   "outputs": [],
   "source": [
    "KNN_train_predict = KNN_model.predict(X_train)\n",
    "KNN_train_acc = KNN_model.score(X_train, train_labels)\n",
    "KNN_train_acc"
   ]
  },
  {
   "cell_type": "code",
   "execution_count": null,
   "id": "3a3a0a29",
   "metadata": {},
   "outputs": [],
   "source": [
    "KNN_test_predict = KNN_model.predict(X_test)\n",
    "KNN_test_acc = KNN_model.score(X_test, test_labels)\n",
    "KNN_test_acc"
   ]
  },
  {
   "cell_type": "markdown",
   "id": "d6e67880",
   "metadata": {},
   "source": [
    "5. (b) Model Performance¶"
   ]
  },
  {
   "cell_type": "code",
   "execution_count": null,
   "id": "ba6ff87a",
   "metadata": {},
   "outputs": [],
   "source": [
    "confusion_matrix(train_labels, KNN_train_predict)"
   ]
  },
  {
   "cell_type": "code",
   "execution_count": null,
   "id": "e607004a",
   "metadata": {},
   "outputs": [],
   "source": [
    "confusion_matrix(test_labels, KNN_test_predict)"
   ]
  },
  {
   "cell_type": "code",
   "execution_count": null,
   "id": "c4ffa2b6",
   "metadata": {},
   "outputs": [],
   "source": [
    "print(classification_report(train_labels, KNN_train_predict))"
   ]
  },
  {
   "cell_type": "code",
   "execution_count": null,
   "id": "a909b069",
   "metadata": {},
   "outputs": [],
   "source": [
    "print(classification_report(test_labels, KNN_test_predict))"
   ]
  },
  {
   "cell_type": "markdown",
   "id": "339fabff",
   "metadata": {},
   "source": [
    "5. (c) ROC-AUC Graph"
   ]
  },
  {
   "cell_type": "code",
   "execution_count": null,
   "id": "39651656",
   "metadata": {},
   "outputs": [],
   "source": [
    "KNN_train_fpr, KNN_train_tpr,_=roc_curve(train_labels,KNN_model.predict_proba(X_train)[:,1])\n",
    "plt.plot(KNN_train_fpr,KNN_train_tpr,color='black')\n",
    "plt.plot([0, 1], [0, 1], linestyle='--')\n",
    "plt.xlabel('False Positive Rate')\n",
    "plt.ylabel('True Positive Rate')\n",
    "plt.title('ROC')\n",
    "KNN_train_auc=roc_auc_score(train_labels,KNN_model.predict_proba(X_train)[:,1])\n",
    "print('Area under Curve is', KNN_train_auc)"
   ]
  },
  {
   "cell_type": "code",
   "execution_count": null,
   "id": "17e03d3e",
   "metadata": {},
   "outputs": [],
   "source": [
    "KNN_test_fpr, KNN_test_tpr,_=roc_curve(test_labels,KNN_model.predict_proba(X_test)[:,1])\n",
    "plt.plot(KNN_test_fpr,KNN_test_tpr,color='black')\n",
    "plt.plot([0, 1], [0, 1], linestyle='--')\n",
    "plt.xlabel('False Positive Rate')\n",
    "plt.ylabel('True Positive Rate')\n",
    "plt.title('ROC')\n",
    "KNN_test_auc=roc_auc_score(test_labels,KNN_model.predict_proba(X_test)[:,1])\n",
    "print('Area under Curve is', KNN_test_auc)"
   ]
  },
  {
   "cell_type": "markdown",
   "id": "84e71acd",
   "metadata": {},
   "source": [
    "5. (d) Model Performance Metrices"
   ]
  },
  {
   "cell_type": "code",
   "execution_count": null,
   "id": "6b70a779",
   "metadata": {},
   "outputs": [],
   "source": [
    "KNN_metrics=classification_report(train_labels, KNN_train_predict,output_dict=True)\n",
    "df=pd.DataFrame(KNN_metrics).transpose()\n",
    "KNN_train_f1=round(df.loc[\"1\"][2],2)\n",
    "KNN_train_recall=round(df.loc[\"1\"][1],2)\n",
    "KNN_train_precision=round(df.loc[\"1\"][0],2)\n",
    "print ('KNN_train_precision ',KNN_train_precision)\n",
    "print ('KNN_train_recall ',KNN_train_recall)\n",
    "print ('KNN_train_f1 ',KNN_train_f1)"
   ]
  },
  {
   "cell_type": "code",
   "execution_count": null,
   "id": "f84d73d5",
   "metadata": {},
   "outputs": [],
   "source": [
    "KNN_metrics=classification_report(test_labels, KNN_test_predict,output_dict=True)\n",
    "df=pd.DataFrame(KNN_metrics).transpose()\n",
    "KNN_test_f1=round(df.loc[\"1\"][2],2)\n",
    "KNN_test_recall=round(df.loc[\"1\"][1],2)\n",
    "KNN_test_precision=round(df.loc[\"1\"][0],2)\n",
    "print ('KNN_test_precision ',KNN_test_precision)\n",
    "print ('KNN_test_recall ',KNN_test_recall)\n",
    "print ('KNN_test_f1 ',KNN_test_f1)"
   ]
  },
  {
   "cell_type": "code",
   "execution_count": null,
   "id": "cf5a613d",
   "metadata": {},
   "outputs": [],
   "source": [
    "# empty list that will hold accuracy scores\n",
    "ac_scores = []\n",
    "#\n",
    "# perform accuracy metrics for values from 1,3,5....19\n",
    "for k in range(1,20,2):\n",
    "    knn = KNeighborsClassifier(n_neighbors=k)\n",
    "    knn.fit(X_train, train_labels)\n",
    "    # evaluate test accuracy\n",
    "    scores = knn.score(X_test, test_labels)\n",
    "    ac_scores.append(scores)\n",
    "#\n",
    "# changing to misclassification error\n",
    "MCE = [1 - x for x in ac_scores]\n",
    "MCE"
   ]
  },
  {
   "cell_type": "code",
   "execution_count": null,
   "id": "76976e67",
   "metadata": {},
   "outputs": [],
   "source": [
    "# plot misclassification error vs k\n",
    "plt.plot(range(1,20,2), MCE)\n",
    "plt.xlabel('Number of Neighbors K')\n",
    "plt.ylabel('Misclassification Error')\n",
    "plt.show()"
   ]
  },
  {
   "cell_type": "markdown",
   "id": "07658c15",
   "metadata": {},
   "source": [
    "6. Gaussian Naive Bayes"
   ]
  },
  {
   "cell_type": "code",
   "execution_count": null,
   "id": "f1e8ad6f",
   "metadata": {},
   "outputs": [],
   "source": [
    "NB_model = GaussianNB()\n",
    "NB_model.fit(X_train, train_labels)"
   ]
  },
  {
   "cell_type": "markdown",
   "id": "4ef8a224",
   "metadata": {},
   "source": [
    "6. (a) Model Prediction"
   ]
  },
  {
   "cell_type": "code",
   "execution_count": null,
   "id": "d84ec36a",
   "metadata": {},
   "outputs": [],
   "source": [
    "NB_train_predict = NB_model.predict(X_train)\n",
    "NB_train_acc = NB_model.score(X_train, train_labels)   \n",
    "NB_train_acc "
   ]
  },
  {
   "cell_type": "code",
   "execution_count": null,
   "id": "2b1effcd",
   "metadata": {},
   "outputs": [],
   "source": [
    "NB_test_predict = NB_model.predict(X_test)\n",
    "NB_test_acc = NB_model.score(X_test, test_labels)\n",
    "NB_test_acc"
   ]
  },
  {
   "cell_type": "markdown",
   "id": "52331b1a",
   "metadata": {},
   "source": [
    "6. (b) Model Performance"
   ]
  },
  {
   "cell_type": "code",
   "execution_count": null,
   "id": "67e33214",
   "metadata": {},
   "outputs": [],
   "source": [
    "confusion_matrix(train_labels, NB_train_predict) "
   ]
  },
  {
   "cell_type": "code",
   "execution_count": null,
   "id": "88f5a105",
   "metadata": {},
   "outputs": [],
   "source": [
    "confusion_matrix(test_labels, NB_test_predict)"
   ]
  },
  {
   "cell_type": "code",
   "execution_count": null,
   "id": "5c3287c9",
   "metadata": {},
   "outputs": [],
   "source": [
    "print(classification_report(train_labels, NB_train_predict))\n"
   ]
  },
  {
   "cell_type": "code",
   "execution_count": null,
   "id": "9bda6bc8",
   "metadata": {},
   "outputs": [],
   "source": [
    "print(classification_report(test_labels, NB_test_predict))\n"
   ]
  },
  {
   "cell_type": "markdown",
   "id": "beb9bd26",
   "metadata": {},
   "source": [
    "6. (c) ROC-AUC Graph"
   ]
  },
  {
   "cell_type": "code",
   "execution_count": null,
   "id": "6216a559",
   "metadata": {},
   "outputs": [],
   "source": [
    "NB_train_fpr, NB_train_tpr,_=roc_curve(train_labels,NB_model.predict_proba(X_train)[:,1])\n",
    "plt.plot(NB_train_fpr,NB_train_tpr,color='black')\n",
    "plt.plot([0, 1], [0, 1], linestyle='--')\n",
    "plt.xlabel('False Positive Rate')\n",
    "plt.ylabel('True Positive Rate')\n",
    "plt.title('ROC')\n",
    "NB_train_auc=roc_auc_score(train_labels,NB_model.predict_proba(X_train)[:,1])\n",
    "print('Area under Curve is', NB_train_auc)"
   ]
  },
  {
   "cell_type": "code",
   "execution_count": null,
   "id": "e566a3d9",
   "metadata": {},
   "outputs": [],
   "source": [
    "NB_test_fpr, NB_test_tpr,_=roc_curve(test_labels,NB_model.predict_proba(X_test)[:,1])\n",
    "plt.plot(NB_test_fpr,NB_test_tpr,color='black')\n",
    "plt.plot([0, 1], [0, 1], linestyle='--')\n",
    "plt.xlabel('False Positive Rate')\n",
    "plt.ylabel('True Positive Rate')\n",
    "plt.title('ROC')\n",
    "NB_test_auc=roc_auc_score(test_labels,NB_model.predict_proba(X_test)[:,1])\n",
    "print('Area under Curve is', NB_test_auc)"
   ]
  },
  {
   "cell_type": "markdown",
   "id": "669c2c5b",
   "metadata": {},
   "source": [
    "6. (d) Model Performance Metrices"
   ]
  },
  {
   "cell_type": "code",
   "execution_count": null,
   "id": "54fba8c0",
   "metadata": {},
   "outputs": [],
   "source": [
    "NB_metrics=classification_report(train_labels, NB_train_predict,output_dict=True)\n",
    "df=pd.DataFrame(NB_metrics).transpose()\n",
    "NB_train_f1=round(df.loc[\"1\"][2],2)\n",
    "NB_train_recall=round(df.loc[\"1\"][1],2)\n",
    "NB_train_precision=round(df.loc[\"1\"][0],2)\n",
    "print ('NB_train_precision ',NB_train_precision)\n",
    "print ('NB_train_recall ',NB_train_recall)\n",
    "print ('NB_train_f1 ',NB_train_f1)"
   ]
  },
  {
   "cell_type": "code",
   "execution_count": null,
   "id": "67639945",
   "metadata": {},
   "outputs": [],
   "source": [
    "    NB_metrics=classification_report(test_labels, NB_test_predict,output_dict=True)\n",
    "    df=pd.DataFrame(NB_metrics).transpose()\n",
    "    NB_test_f1=round(df.loc[\"1\"][2],2)\n",
    "    NB_test_recall=round(df.loc[\"1\"][1],2)\n",
    "    NB_test_precision=round(df.loc[\"1\"][0],2)\n",
    "    print ('NB_test_precision ',NB_test_precision)\n",
    "    print ('NB_test_recall ',NB_test_recall)\n",
    "    print ('NB_test_f1 ',NB_test_f1)\n"
   ]
  },
  {
   "cell_type": "markdown",
   "id": "3db251fb",
   "metadata": {},
   "source": [
    "7. Gradient Boosting"
   ]
  },
  {
   "cell_type": "code",
   "execution_count": null,
   "id": "bc59a2fc",
   "metadata": {},
   "outputs": [],
   "source": [
    "params = {'loss' : 'deviance',\n",
    "          'n_estimators': 100, \n",
    "          'max_depth': 10, \n",
    "          'criterion': 'friedman_mse',\n",
    "          'subsample': 1.0,\n",
    "          'learning_rate': 0.1, \n",
    "          'min_samples_leaf': 10, \n",
    "          'min_samples_split': 50,\n",
    "          'random_state': 1,\n",
    "          'ccp_alpha' : 0.5}\n",
    "#\n",
    "gbcl = GradientBoostingClassifier(**params)\n",
    "gbcl = gbcl.fit(X_train, train_labels)"
   ]
  },
  {
   "cell_type": "markdown",
   "id": "316722a1",
   "metadata": {},
   "source": [
    "7. (a) Model Prediction"
   ]
  },
  {
   "cell_type": "code",
   "execution_count": null,
   "id": "24c153e3",
   "metadata": {},
   "outputs": [],
   "source": [
    "gbcl_train_predict = gbcl.predict(X_train)\n",
    "gbcl_test_predict = gbcl.predict(X_test)\n"
   ]
  },
  {
   "cell_type": "code",
   "execution_count": null,
   "id": "1b276618",
   "metadata": {},
   "outputs": [],
   "source": [
    "gbcl_train_acc = gbcl.score(X_train,train_labels)\n",
    "gbcl_train_acc\n"
   ]
  },
  {
   "cell_type": "code",
   "execution_count": null,
   "id": "c961ba94",
   "metadata": {},
   "outputs": [],
   "source": [
    "gbcl_test_acc = gbcl.score(X_test,test_labels)\n",
    "gbcl_test_acc\n"
   ]
  },
  {
   "cell_type": "markdown",
   "id": "3f4677c9",
   "metadata": {},
   "source": [
    "7. (b) Model Performance"
   ]
  },
  {
   "cell_type": "code",
   "execution_count": null,
   "id": "71b19c11",
   "metadata": {},
   "outputs": [],
   "source": [
    "confusion_matrix(train_labels, gbcl_train_predict) \n"
   ]
  },
  {
   "cell_type": "code",
   "execution_count": null,
   "id": "da9e47f5",
   "metadata": {},
   "outputs": [],
   "source": [
    "confusion_matrix(test_labels, gbcl_test_predict)\n"
   ]
  },
  {
   "cell_type": "code",
   "execution_count": null,
   "id": "ab450a25",
   "metadata": {},
   "outputs": [],
   "source": [
    "print(classification_report(train_labels, gbcl_train_predict))\n"
   ]
  },
  {
   "cell_type": "code",
   "execution_count": null,
   "id": "c37c9815",
   "metadata": {},
   "outputs": [],
   "source": [
    "print(classification_report(test_labels, gbcl_test_predict))\n"
   ]
  },
  {
   "cell_type": "markdown",
   "id": "6bc80bdd",
   "metadata": {},
   "source": [
    "7. (c) ROC-AUC Graph"
   ]
  },
  {
   "cell_type": "code",
   "execution_count": null,
   "id": "df8c1fd7",
   "metadata": {},
   "outputs": [],
   "source": [
    "gbcl_train_fpr, gbcl_train_tpr,_=roc_curve(train_labels,gbcl.predict_proba(X_train)[:,1])\n",
    "plt.plot(gbcl_train_fpr,gbcl_train_tpr,color='black')\n",
    "plt.plot([0, 1], [0, 1], linestyle='--')\n",
    "plt.xlabel('False Positive Rate')\n",
    "plt.ylabel('True Positive Rate')\n",
    "plt.title('ROC')\n",
    "gbcl_train_auc=roc_auc_score(train_labels,gbcl.predict_proba(X_train)[:,1])\n",
    "print('Area under Curve is', gbcl_train_auc)\n"
   ]
  },
  {
   "cell_type": "code",
   "execution_count": null,
   "id": "93c56c69",
   "metadata": {},
   "outputs": [],
   "source": [
    "gbcl_test_fpr, gbcl_test_tpr,_=roc_curve(test_labels,gbcl.predict_proba(X_test)[:,1])\n",
    "plt.plot(gbcl_test_fpr,gbcl_test_tpr,color='black')\n",
    "plt.plot([0, 1], [0, 1], linestyle='--')\n",
    "plt.xlabel('False Positive Rate')\n",
    "plt.ylabel('True Positive Rate')\n",
    "plt.title('ROC')\n",
    "gbcl_test_auc=roc_auc_score(test_labels,gbcl.predict_proba(X_test)[:,1])\n",
    "print('Area under Curve is', gbcl_test_auc)"
   ]
  },
  {
   "cell_type": "markdown",
   "id": "7fccbe6b",
   "metadata": {},
   "source": [
    "7. (d) Model Performance Metrices"
   ]
  },
  {
   "cell_type": "code",
   "execution_count": null,
   "id": "46d1fdf7",
   "metadata": {},
   "outputs": [],
   "source": [
    "gbcl_metrics=classification_report(train_labels, gbcl_train_predict,output_dict=True)\n",
    "df=pd.DataFrame(gbcl_metrics).transpose()\n",
    "gbcl_train_f1=round(df.loc[\"1\"][2],2)\n",
    "gbcl_train_recall=round(df.loc[\"1\"][1],2)\n",
    "gbcl_train_precision=round(df.loc[\"1\"][0],2)\n",
    "print ('gbcl_train_precision ',gbcl_train_precision)\n",
    "print ('gbcl_train_recall ',gbcl_train_recall)\n",
    "print ('gbcl_train_f1 ',gbcl_train_f1)\n"
   ]
  },
  {
   "cell_type": "code",
   "execution_count": null,
   "id": "de4e613b",
   "metadata": {},
   "outputs": [],
   "source": [
    "gbcl_metrics=classification_report(test_labels, gbcl_test_predict,output_dict=True)\n",
    "df=pd.DataFrame(gbcl_metrics).transpose()\n",
    "gbcl_test_f1=round(df.loc[\"1\"][2],2)\n",
    "gbcl_test_recall=round(df.loc[\"1\"][1],2)\n",
    "gbcl_test_precision=round(df.loc[\"1\"][0],2)\n",
    "print ('gbcl_test_precision ',gbcl_test_precision)\n",
    "print ('gbcl_test_recall ',gbcl_test_recall)\n",
    "print ('gbcl_test_f1 ',gbcl_test_f1)\n"
   ]
  },
  {
   "cell_type": "markdown",
   "id": "7b1e716e",
   "metadata": {},
   "source": [
    "8. Xtreme Gradient Boosting (XGB)"
   ]
  },
  {
   "cell_type": "code",
   "execution_count": null,
   "id": "d077e44b",
   "metadata": {},
   "outputs": [],
   "source": [
    "xgb = XGBClassifier(base_score = 0.5, \n",
    "                    colsample_bylevel = 1, \n",
    "                    colsample_bytree = 1,\n",
    "                    gamma = 0, \n",
    "                    learning_rate = 0.1, \n",
    "                    max_depth = 10,\n",
    "                    min_child_weight = 1, \n",
    "                    n_estimators = 100, \n",
    "                    objective ='binary:logistic', \n",
    "                    reg_alpha = 1, \n",
    "                    reg_lambda = 1,\n",
    "                    scale_pos_weight=1,  \n",
    "                    subsample = 1)\n",
    "xgb = xgb.fit(X_train, train_labels)"
   ]
  },
  {
   "cell_type": "markdown",
   "id": "b0d243e8",
   "metadata": {},
   "source": [
    "8. (a) Model Prediction"
   ]
  },
  {
   "cell_type": "code",
   "execution_count": null,
   "id": "889df654",
   "metadata": {},
   "outputs": [],
   "source": [
    "xgb_train_predict = xgb.predict(X_train)\n",
    "xgb_test_predict = xgb.predict(X_test)"
   ]
  },
  {
   "cell_type": "code",
   "execution_count": null,
   "id": "ec65d7a0",
   "metadata": {},
   "outputs": [],
   "source": [
    "xgb_train_acc = xgb.score(X_train,train_labels)\n",
    "xgb_train_acc"
   ]
  },
  {
   "cell_type": "code",
   "execution_count": null,
   "id": "d69eb1d4",
   "metadata": {},
   "outputs": [],
   "source": [
    "xgb_test_acc = xgb.score(X_test,test_labels)\n",
    "xgb_test_acc\n"
   ]
  },
  {
   "cell_type": "markdown",
   "id": "3e289fdf",
   "metadata": {},
   "source": [
    "8. (b) Model Performance"
   ]
  },
  {
   "cell_type": "code",
   "execution_count": null,
   "id": "32ecc08f",
   "metadata": {},
   "outputs": [],
   "source": [
    "confusion_matrix(train_labels, xgb_train_predict) \n"
   ]
  },
  {
   "cell_type": "code",
   "execution_count": null,
   "id": "5ac5b51d",
   "metadata": {},
   "outputs": [],
   "source": [
    "confusion_matrix(test_labels, xgb_test_predict)\n"
   ]
  },
  {
   "cell_type": "code",
   "execution_count": null,
   "id": "80817992",
   "metadata": {},
   "outputs": [],
   "source": [
    "print(classification_report(train_labels, xgb_train_predict))\n"
   ]
  },
  {
   "cell_type": "code",
   "execution_count": null,
   "id": "bd6c1357",
   "metadata": {},
   "outputs": [],
   "source": [
    "print(classification_report(test_labels, xgb_test_predict))\n"
   ]
  },
  {
   "cell_type": "markdown",
   "id": "4e4892d1",
   "metadata": {},
   "source": [
    "8. (c) ROC-AUC Graph\n"
   ]
  },
  {
   "cell_type": "code",
   "execution_count": null,
   "id": "6b6323c6",
   "metadata": {},
   "outputs": [],
   "source": [
    "xgb_train_fpr, xgb_train_tpr,_=roc_curve(train_labels,xgb.predict_proba(X_train)[:,1])\n",
    "plt.plot(xgb_train_fpr,xgb_train_tpr,color='black')\n",
    "plt.plot([0, 1], [0, 1], linestyle='--')\n",
    "plt.xlabel('False Positive Rate')\n",
    "plt.ylabel('True Positive Rate')\n",
    "plt.title('ROC')\n",
    "xgb_train_auc=roc_auc_score(train_labels,xgb.predict_proba(X_train)[:,1])\n",
    "print('Area under Curve is', xgb_train_auc)"
   ]
  },
  {
   "cell_type": "code",
   "execution_count": null,
   "id": "21c1deb0",
   "metadata": {},
   "outputs": [],
   "source": [
    "xgb_test_fpr, xgb_test_tpr,_=roc_curve(test_labels,xgb.predict_proba(X_test)[:,1])\n",
    "plt.plot(xgb_test_fpr,xgb_test_tpr,color='black')\n",
    "plt.plot([0, 1], [0, 1], linestyle='--')\n",
    "plt.xlabel('False Positive Rate')\n",
    "plt.ylabel('True Positive Rate')\n",
    "plt.title('ROC')\n",
    "xgb_test_auc=roc_auc_score(test_labels,xgb.predict_proba(X_test)[:,1])\n",
    "print('Area under Curve is', xgb_test_auc)\n"
   ]
  },
  {
   "cell_type": "markdown",
   "id": "62e0e3d8",
   "metadata": {},
   "source": [
    "8. (d) Model Performance Metrices"
   ]
  },
  {
   "cell_type": "code",
   "execution_count": null,
   "id": "3020bb72",
   "metadata": {},
   "outputs": [],
   "source": [
    "    xgb_metrics=classification_report(train_labels, xgb_train_predict,output_dict=True)\n",
    "    df=pd.DataFrame(xgb_metrics).transpose()\n",
    "    xgb_train_f1=round(df.loc[\"1\"][2],2)\n",
    "    xgb_train_recall=round(df.loc[\"1\"][1],2)\n",
    "    xgb_train_precision=round(df.loc[\"1\"][0],2)\n",
    "    print ('gbcl_train_precision ',xgb_train_precision)\n",
    "    print ('gbcl_train_recall ',xgb_train_recall)\n",
    "    print ('gbcl_train_f1 ',xgb_train_f1)"
   ]
  },
  {
   "cell_type": "code",
   "execution_count": null,
   "id": "c9faa76a",
   "metadata": {},
   "outputs": [],
   "source": [
    "xgb_metrics=classification_report(test_labels, xgb_test_predict,output_dict=True)\n",
    "df=pd.DataFrame(xgb_metrics).transpose()\n",
    "xgb_test_f1=round(df.loc[\"1\"][2],2)\n",
    "xgb_test_recall=round(df.loc[\"1\"][1],2)\n",
    "xgb_test_precision=round(df.loc[\"1\"][0],2)\n",
    "print ('gbcl_test_precision ',xgb_test_precision)\n",
    "print ('gbcl_test_recall ',xgb_test_recall)\n",
    "print ('gbcl_test_f1 ',xgb_test_f1)"
   ]
  },
  {
   "cell_type": "markdown",
   "id": "16992a53",
   "metadata": {},
   "source": [
    "9. Extra Tree Classifier"
   ]
  },
  {
   "cell_type": "code",
   "execution_count": null,
   "id": "10fd4b5a",
   "metadata": {},
   "outputs": [],
   "source": [
    "etc = ExtraTreesClassifier(n_estimators = 100,\n",
    "                           criterion ='gini',\n",
    "                           max_depth = 10,\n",
    "                           min_samples_split = 10,\n",
    "                           min_samples_leaf = 50,\n",
    "                           max_features = 'auto',\n",
    "                           min_impurity_decrease = 0.5,\n",
    "                           random_state = 1)\n",
    "etc = etc.fit(X_train, train_labels)\n"
   ]
  },
  {
   "cell_type": "markdown",
   "id": "f3590c36",
   "metadata": {},
   "source": [
    "9. (a) Model Prediction"
   ]
  },
  {
   "cell_type": "code",
   "execution_count": null,
   "id": "282416fd",
   "metadata": {},
   "outputs": [],
   "source": [
    "etc_train_predict = etc.predict(X_train)\n",
    "etc_test_predict = etc.predict(X_test)\n"
   ]
  },
  {
   "cell_type": "code",
   "execution_count": null,
   "id": "8d031522",
   "metadata": {},
   "outputs": [],
   "source": [
    "etc_train_acc = etc.score(X_train,train_labels)\n",
    "etc_train_acc\n"
   ]
  },
  {
   "cell_type": "code",
   "execution_count": null,
   "id": "9aca788e",
   "metadata": {},
   "outputs": [],
   "source": [
    "etc_test_acc = etc.score(X_test,test_labels)\n",
    "etc_test_acc"
   ]
  },
  {
   "cell_type": "markdown",
   "id": "aa598506",
   "metadata": {},
   "source": [
    "9. (b) Model Performance"
   ]
  },
  {
   "cell_type": "code",
   "execution_count": null,
   "id": "10916b83",
   "metadata": {},
   "outputs": [],
   "source": [
    "confusion_matrix(train_labels, etc_train_predict) \n"
   ]
  },
  {
   "cell_type": "code",
   "execution_count": null,
   "id": "3c11a4b7",
   "metadata": {},
   "outputs": [],
   "source": [
    "confusion_matrix(test_labels, etc_test_predict)\n"
   ]
  },
  {
   "cell_type": "code",
   "execution_count": null,
   "id": "af86594f",
   "metadata": {},
   "outputs": [],
   "source": [
    "print(classification_report(train_labels, etc_train_predict))\n"
   ]
  },
  {
   "cell_type": "code",
   "execution_count": null,
   "id": "fd5f3d87",
   "metadata": {},
   "outputs": [],
   "source": [
    "print(classification_report(test_labels, etc_test_predict))\n"
   ]
  },
  {
   "cell_type": "markdown",
   "id": "2dc31de5",
   "metadata": {},
   "source": [
    "9. (c) ROC-AUC Graph\n"
   ]
  },
  {
   "cell_type": "code",
   "execution_count": null,
   "id": "be37be64",
   "metadata": {},
   "outputs": [],
   "source": [
    "etc_train_fpr, etc_train_tpr,_= roc_curve(train_labels,etc.predict_proba(X_train)[:,1])\n",
    "plt.plot(etc_train_fpr,etc_train_tpr,color='red')\n",
    "plt.plot([0, 1], [0, 1], linestyle='--')\n",
    "plt.xlabel('False Positive Rate')\n",
    "plt.ylabel('True Positive Rate')\n",
    "plt.title('ROC')\n",
    "etc_train_auc=roc_auc_score(train_labels,etc.predict_proba(X_train)[:,1])\n",
    "print('Area under Curve is', etc_train_auc)\n"
   ]
  },
  {
   "cell_type": "code",
   "execution_count": null,
   "id": "73839617",
   "metadata": {},
   "outputs": [],
   "source": [
    "etc_test_fpr, etc_test_tpr,_= roc_curve(test_labels,etc.predict_proba(X_test)[:,1])\n",
    "plt.plot(etc_test_fpr,etc_test_tpr,color='red')\n",
    "plt.plot([0, 1], [0, 1], linestyle='--')\n",
    "plt.xlabel('False Positive Rate')\n",
    "plt.ylabel('True Positive Rate')\n",
    "plt.title('ROC')\n",
    "etc_test_auc=roc_auc_score(test_labels,etc.predict_proba(X_test)[:,1])\n",
    "print('Area under Curve is', etc_test_auc)\n"
   ]
  },
  {
   "cell_type": "markdown",
   "id": "8e944520",
   "metadata": {},
   "source": [
    "9. (d) Model Performance Metrices"
   ]
  },
  {
   "cell_type": "code",
   "execution_count": null,
   "id": "40f854c1",
   "metadata": {},
   "outputs": [],
   "source": [
    "etc_metrics=classification_report(train_labels, etc_train_predict,output_dict=True)\n",
    "df=pd.DataFrame(etc_metrics).transpose()\n",
    "etc_train_f1=round(df.loc[\"1\"][2],2)\n",
    "etc_train_recall=round(df.loc[\"1\"][1],2)\n",
    "etc_train_precision=round(df.loc[\"1\"][0],2)\n",
    "print ('etc_train_precision ',etc_train_precision)\n",
    "print ('etc_train_recall ',etc_train_recall)\n",
    "print ('etc_train_f1 ',etc_train_f1)"
   ]
  },
  {
   "cell_type": "code",
   "execution_count": null,
   "id": "6373b7c1",
   "metadata": {},
   "outputs": [],
   "source": [
    "etc_metrics=classification_report(test_labels, etc_test_predict,output_dict=True)\n",
    "df=pd.DataFrame(etc_metrics).transpose()\n",
    "etc_test_f1=round(df.loc[\"1\"][2],2)\n",
    "etc_test_recall=round(df.loc[\"1\"][1],2)\n",
    "etc_test_precision=round(df.loc[\"1\"][0],2)\n",
    "print ('etc_test_precision ',etc_test_precision)\n",
    "print ('etc_test_recall ',etc_test_recall)\n",
    "print ('etc_test_f1 ',etc_test_f1)"
   ]
  },
  {
   "cell_type": "markdown",
   "id": "f9604f3f",
   "metadata": {},
   "source": [
    "Model Performance Comparison-Prepare the comparison table and graph showing accuracy, AUC, precision, recall & F1 score generated on each algorithm."
   ]
  },
  {
   "cell_type": "markdown",
   "id": "5c05b982",
   "metadata": {},
   "source": [
    "1. Performance Matrics - on Train Data"
   ]
  },
  {
   "cell_type": "code",
   "execution_count": null,
   "id": "f5032e07",
   "metadata": {},
   "outputs": [],
   "source": [
    "index=['Accuracy', 'AUC', 'Recall','Precision','F1 Score']\n",
    "data = pd.DataFrame({\n",
    "       'CART Train':[cart_train_acc,cart_train_auc,cart_train_recall,cart_train_precision,cart_train_f1],\n",
    "       'RF Train':[rf_train_acc,rf_train_auc,rf_train_recall,rf_train_precision,rf_train_f1],\n",
    "       'Log Train':[log_train_acc,log_train_auc,log_train_recall,log_train_precision,log_train_f1],          \n",
    "       'LDA Train':[lda_train_acc,lda_train_auc,lda_train_recall,lda_train_precision,lda_train_f1],\n",
    "       'KNN Train':[KNN_train_acc,KNN_train_auc,KNN_train_recall,KNN_train_precision,KNN_train_f1], \n",
    "       'NB Train':[NB_train_acc,NB_train_auc,NB_train_recall,NB_train_precision,NB_train_f1],\n",
    "       'Gr.Boost Train':[gbcl_train_acc,gbcl_train_auc,gbcl_train_recall,gbcl_train_precision,gbcl_train_f1], \n",
    "       'XG Boost Train':[xgb_train_acc,xgb_train_auc,xgb_train_recall,xgb_train_precision,xgb_train_f1]},index=index)\n",
    "round(data,2)"
   ]
  },
  {
   "cell_type": "markdown",
   "id": "7e0e7a0d",
   "metadata": {},
   "source": [
    "2. Performance Matrics - on Test Data"
   ]
  },
  {
   "cell_type": "code",
   "execution_count": null,
   "id": "761c185e",
   "metadata": {},
   "outputs": [],
   "source": [
    "index=['Accuracy', 'AUC', 'Recall','Precision','F1 Score']\n",
    "data = pd.DataFrame({\n",
    "        'CART Test':[cart_test_acc,cart_test_auc,cart_test_recall,cart_test_precision,cart_test_f1],\n",
    "        'RF Test':[rf_test_acc,rf_test_auc,rf_test_recall,rf_test_precision,rf_test_f1],\n",
    "        'Log Test':[log_test_acc,log_test_auc,log_test_recall,log_test_precision,log_test_f1],           \n",
    "        'LDA Test':[lda_test_acc,lda_test_auc,lda_test_recall,lda_test_precision,lda_test_f1],\n",
    "        'KNN Test':[KNN_test_acc,KNN_test_auc,KNN_test_recall,KNN_test_precision,KNN_test_f1],  \n",
    "        'NB Test':[NB_test_acc,NB_test_auc,NB_test_recall,NB_test_precision,NB_test_f1],\n",
    "        'Gr.Boost Test':[gbcl_test_acc,gbcl_test_auc,gbcl_test_recall,gbcl_test_precision,gbcl_test_f1],  \n",
    "        'XG Boost Test':[xgb_test_acc,xgb_test_auc,xgb_test_recall,xgb_test_precision,xgb_test_f1]},index=index)\n",
    "round(data,2)"
   ]
  },
  {
   "cell_type": "markdown",
   "id": "75d99546",
   "metadata": {},
   "source": [
    "3. ROC-AUC - on Train Data"
   ]
  },
  {
   "cell_type": "code",
   "execution_count": null,
   "id": "8fc4e8f5",
   "metadata": {},
   "outputs": [],
   "source": [
    "plt.plot([0, 1], [0, 1], linestyle='--')\n",
    "plt.plot(cart_train_fpr, cart_train_tpr,color='red',label=\"CART\")\n",
    "plt.plot(rf_train_fpr,rf_train_tpr,color='green',label=\"RF\")\n",
    "plt.plot(log_train_fpr,log_train_tpr,color='Pink',label=\"Logistic\")\n",
    "plt.plot(KNN_train_fpr,KNN_train_tpr,color='magenta',label=\"KNN\")\n",
    "plt.plot(NB_train_fpr,NB_train_tpr,color='yellow',label=\"NB\")\n",
    "plt.plot(lda_train_fpr,lda_train_tpr,color='blue',label=\"LDA\")\n",
    "plt.plot(gbcl_train_fpr,gbcl_train_tpr,color='violet',label=\"Gr. Boost\")\n",
    "plt.plot(xgb_train_fpr,xgb_train_tpr,color='black',label=\"XG Boost\")\n",
    "plt.xlabel('False Positive Rate')\n",
    "plt.ylabel('True Positive Rate')\n",
    "plt.title('ROC')\n",
    "plt.legend(bbox_to_anchor=(0., 1.02, 1., .102), loc='lower right')"
   ]
  },
  {
   "cell_type": "markdown",
   "id": "01ef21c0",
   "metadata": {},
   "source": [
    "4. ROC-AUC - on Test Data"
   ]
  },
  {
   "cell_type": "code",
   "execution_count": null,
   "id": "5a834e88",
   "metadata": {},
   "outputs": [],
   "source": [
    "plt.plot([0, 1], [0, 1], linestyle='--')\n",
    "plt.plot(cart_test_fpr, cart_test_tpr,color='red',label=\"CART\")\n",
    "plt.plot(rf_test_fpr,rf_test_tpr,color='green',label=\"RF\")\n",
    "plt.plot(log_test_fpr,log_test_tpr,color='pink',label=\"Logistic\")\n",
    "plt.plot(lda_test_fpr,lda_test_tpr,color='magenta',label=\"LDA\")\n",
    "plt.plot(KNN_test_fpr,KNN_test_tpr,color='yellow',label=\"KNN\")\n",
    "plt.plot(NB_test_fpr,NB_test_tpr,color='blue',label=\"NB\")\n",
    "plt.plot(gbcl_test_fpr,gbcl_test_tpr,color='violet',label=\"Gr. Boost\")\n",
    "plt.plot(xgb_test_fpr,xgb_test_tpr,color='black',label=\"XG Boost\")\n",
    "plt.xlabel('False Positive Rate')\n",
    "plt.ylabel('True Positive Rate')\n",
    "plt.title('ROC')\n",
    "plt.legend(bbox_to_anchor=(0., 1.02, 1., .102), loc='lower right')"
   ]
  },
  {
   "cell_type": "markdown",
   "id": "90160bef",
   "metadata": {},
   "source": [
    "Feature Importance"
   ]
  },
  {
   "cell_type": "markdown",
   "id": "9aa55456",
   "metadata": {},
   "source": [
    "After Cheking all types of model performances, next we need to find the importances of the features used for model building.Below are the procedure used for the same :\n",
    "\n",
    "(1) Impurity Based (Base estimator = decision tree)\n",
    "(2) Permutation Based\n",
    "(3) SHAP (shapley additive features)\n"
   ]
  },
  {
   "cell_type": "markdown",
   "id": "6196af35",
   "metadata": {},
   "source": [
    "1. Impurity-based Importance."
   ]
  },
  {
   "cell_type": "code",
   "execution_count": null,
   "id": "20d41312",
   "metadata": {},
   "outputs": [],
   "source": [
    "#feature_names = [f'feature {i}' for i in range(X_train.shape[1])]\n",
    "forest_importances = pd.Series(best_grid_rf.feature_importances_, index=X_train.columns)\n",
    "std = np.std([tree.feature_importances_ for tree in best_grid_rf.estimators_], axis=0)\n",
    "#\n",
    "fig, ax = plt.subplots(figsize=(10,6))\n",
    "forest_importances.plot.bar(yerr=std, ax=ax)\n",
    "ax.set_title(\"Feature Importances using MDI\")\n",
    "ax.set_ylabel(\"Mean decrease in impurity\")\n",
    "fig.tight_layout()"
   ]
  },
  {
   "cell_type": "markdown",
   "id": "9f12fd97",
   "metadata": {},
   "source": [
    "2. Permutation-based Importance."
   ]
  },
  {
   "cell_type": "code",
   "execution_count": null,
   "id": "bd4881b6",
   "metadata": {},
   "outputs": [],
   "source": [
    "from sklearn.inspection import permutation_importance\n"
   ]
  },
  {
   "cell_type": "code",
   "execution_count": null,
   "id": "81bad250",
   "metadata": {},
   "outputs": [],
   "source": [
    "result = permutation_importance(best_grid_rf, X_test, test_labels, n_repeats=10, random_state=1, n_jobs=2)\n",
    "#\n",
    "fig, ax = plt.subplots(figsize=(10,6))\n",
    "forest_importances.plot.bar(yerr=result.importances_std, ax=ax)\n",
    "ax.set_title(\"Feature Importances using Permutation on Full Model\")\n",
    "ax.set_ylabel(\"Mean accuracy decrease\")\n",
    "fig.tight_layout()\n",
    "plt.show()"
   ]
  },
  {
   "cell_type": "markdown",
   "id": "dc6f0f6b",
   "metadata": {},
   "source": [
    "3. SHAP Value-based Importance."
   ]
  },
  {
   "cell_type": "code",
   "execution_count": null,
   "id": "e6f77346",
   "metadata": {},
   "outputs": [],
   "source": [
    "#pip install shap"
   ]
  },
  {
   "cell_type": "code",
   "execution_count": null,
   "id": "139f8605",
   "metadata": {},
   "outputs": [],
   "source": [
    "import shap  # package used to calculate Shap values\n",
    "row_to_show = 5\n",
    "data_for_prediction = X_train.iloc[row_to_show]\n",
    "explainer = shap.TreeExplainer(best_grid_rf) # Create object that can calculate shap values\n",
    "shap_values = explainer.shap_values(data_for_prediction) # Calculate Shap values\n",
    "#\n",
    "shap.initjs()\n",
    "shap.force_plot(explainer.expected_value[1], shap_values[1], data_for_prediction)"
   ]
  },
  {
   "cell_type": "code",
   "execution_count": null,
   "id": "bfa554e3",
   "metadata": {},
   "outputs": [],
   "source": [
    "# use Kernel SHAP to explain test set predictions\n",
    "k_explainer = shap.KernelExplainer(best_grid_rf.predict_proba, X_train)\n",
    "k_shap_values = k_explainer.shap_values(data_for_prediction)\n",
    "shap.force_plot(k_explainer.expected_value[1], k_shap_values[1], data_for_prediction)"
   ]
  },
  {
   "cell_type": "markdown",
   "id": "71c6525f",
   "metadata": {},
   "source": [
    "Cross-Validation"
   ]
  },
  {
   "cell_type": "code",
   "execution_count": null,
   "id": "4773d33d",
   "metadata": {},
   "outputs": [],
   "source": [
    "index=['Mean']\n",
    "data = pd.DataFrame(\n",
    "      {'CART':[cross_val_score(dtcl, X_train, train_labels,scoring=\"neg_mean_squared_error\",cv=10).mean()],\n",
    "       'Random Forest':[cross_val_score(rfcl, X_train, train_labels,scoring=\"neg_mean_squared_error\",cv=10).mean()],\n",
    "       'Logistics':[cross_val_score(model, X_train, train_labels,scoring=\"neg_mean_squared_error\",cv=10).mean()],\n",
    "       'LDA':[cross_val_score(clf, X_train, train_labels,scoring=\"neg_mean_squared_error\",cv=10).mean()],\n",
    "       'KNN':[cross_val_score(KNN_model, X_train, train_labels,scoring=\"neg_mean_squared_error\",cv=10).mean()],\n",
    "       'Naive Bayes':[cross_val_score(NB_model, X_train, train_labels,scoring=\"neg_mean_squared_error\",cv=10).mean()],\n",
    "       'Gradient Boost':[cross_val_score(gbcl, X_train, train_labels,scoring=\"neg_mean_squared_error\",cv=10).mean()],\n",
    "       'XG Boost':[cross_val_score(xgb, X_train, train_labels,scoring=\"neg_mean_squared_error\",cv=10).mean()],\n",
    "       'Extra Tree':[cross_val_score(etc, X_train, train_labels,scoring=\"neg_mean_squared_error\",cv=10).mean()]},index=index)\n",
    "round(data,2)"
   ]
  },
  {
   "cell_type": "code",
   "execution_count": null,
   "id": "5c38fc9d",
   "metadata": {},
   "outputs": [],
   "source": [
    "45bg"
   ]
  }
 ],
 "metadata": {
  "kernelspec": {
   "display_name": "Python 3 (ipykernel)",
   "language": "python",
   "name": "python3"
  },
  "language_info": {
   "codemirror_mode": {
    "name": "ipython",
    "version": 3
   },
   "file_extension": ".py",
   "mimetype": "text/x-python",
   "name": "python",
   "nbconvert_exporter": "python",
   "pygments_lexer": "ipython3",
   "version": "3.9.7"
  }
 },
 "nbformat": 4,
 "nbformat_minor": 5
}
